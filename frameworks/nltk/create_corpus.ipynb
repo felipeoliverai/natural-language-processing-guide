{
  "nbformat": 4,
  "nbformat_minor": 0,
  "metadata": {
    "colab": {
      "name": "create_corpus.ipynb",
      "provenance": [],
      "collapsed_sections": []
    },
    "kernelspec": {
      "name": "python3",
      "display_name": "Python 3"
    }
  },
  "cells": [
    {
      "cell_type": "markdown",
      "metadata": {
        "id": "knDaWPz0aV9s"
      },
      "source": [
        "### Creating Corpus \r\n",
        "\r\n",
        "<br>"
      ]
    },
    {
      "cell_type": "code",
      "metadata": {
        "colab": {
          "base_uri": "https://localhost:8080/"
        },
        "id": "ZvZmxVsxac5U",
        "outputId": "f8f35f92-c54f-49a2-dd97-d69f36761637"
      },
      "source": [
        "!pip install pypdf2\r\n",
        "!pip install python-docx"
      ],
      "execution_count": 1,
      "outputs": [
        {
          "output_type": "stream",
          "text": [
            "Requirement already satisfied: pypdf2 in /usr/local/lib/python3.6/dist-packages (1.26.0)\n",
            "Requirement already satisfied: python-docx in /usr/local/lib/python3.6/dist-packages (0.8.10)\n",
            "Requirement already satisfied: lxml>=2.3.2 in /usr/local/lib/python3.6/dist-packages (from python-docx) (4.2.6)\n"
          ],
          "name": "stdout"
        }
      ]
    },
    {
      "cell_type": "code",
      "metadata": {
        "colab": {
          "base_uri": "https://localhost:8080/"
        },
        "id": "xJZ1OdaWaTzK",
        "outputId": "2835ca5f-5ba9-4890-e56e-b6ebd1786ef8"
      },
      "source": [
        "import os\r\n",
        "import docx\r\n",
        "from PyPDF2 import PdfFileReader\r\n",
        "import nltk\r\n",
        "from nltk.corpus.reader.plaintext import PlaintextCorpusReader\r\n",
        "nltk.download('punkt')"
      ],
      "execution_count": 2,
      "outputs": [
        {
          "output_type": "stream",
          "text": [
            "[nltk_data] Downloading package punkt to /root/nltk_data...\n",
            "[nltk_data]   Package punkt is already up-to-date!\n"
          ],
          "name": "stdout"
        },
        {
          "output_type": "execute_result",
          "data": {
            "text/plain": [
              "True"
            ]
          },
          "metadata": {
            "tags": []
          },
          "execution_count": 2
        }
      ]
    },
    {
      "cell_type": "code",
      "metadata": {
        "id": "lQOi2IqtacHS"
      },
      "source": [
        "# docx \r\n",
        "def getTextWord(wordFileName):\r\n",
        "    doc = docx.Document(wordFileName)\r\n",
        "    fullText = []\r\n",
        "    for para in doc.paragraphs:\r\n",
        "        fullText.append(para.text)\r\n",
        "    return '\\n'.join(fullText)\r\n",
        "\r\n",
        "\r\n",
        "\r\n",
        "# pdf \r\n",
        "def getTextPDF(pdfFileName, password = ''):\r\n",
        "    pdf_file = open(pdfFileName, 'rb')\r\n",
        "    read_pdf = PdfFileReader(pdf_file)\r\n",
        "    if password != '':\r\n",
        "        read_pdf.decrypt(password)\r\n",
        "    text = []\r\n",
        "    for i in range(0,read_pdf.getNumPages()):\r\n",
        "        text.append(read_pdf.getPage(i).extractText())\r\n",
        "    return '\\n'.join(text)\r\n",
        "\r\n",
        "\r\n",
        "\r\n",
        "# txt file \r\n",
        "def getText(txtFileName):\r\n",
        "    file = open(txtFileName, 'r')\r\n",
        "    return file.read()"
      ],
      "execution_count": 3,
      "outputs": []
    },
    {
      "cell_type": "code",
      "metadata": {
        "id": "U7W_JYwabDPN"
      },
      "source": [
        "# create directory\r\n",
        "newCorpusDir = 'mycorpus/'\r\n",
        "if not os.path.isdir(newCorpusDir):\r\n",
        "    os.mkdir(newCorpusDir)"
      ],
      "execution_count": 4,
      "outputs": []
    },
    {
      "cell_type": "code",
      "metadata": {
        "id": "L6VMJ-_jbKSF"
      },
      "source": [
        "# aggreganting files\r\n",
        "txt1 = getText('/content/drive/MyDrive/Deep_Learning_Projetos/NLP-DSA/corpus/arquivo1.txt')\r\n",
        "txt2 = getTextPDF('/content/drive/MyDrive/Deep_Learning_Projetos/NLP-DSA/corpus/arquivo1.pdf')\r\n",
        "txt3 = getTextWord('/content/drive/MyDrive/Deep_Learning_Projetos/NLP-DSA/corpus/file1.docx')"
      ],
      "execution_count": 5,
      "outputs": []
    },
    {
      "cell_type": "code",
      "metadata": {
        "id": "OkmvHrXpbhBG"
      },
      "source": [
        "# corpus files \r\n",
        "files = [txt1,txt2,txt3]"
      ],
      "execution_count": 6,
      "outputs": []
    },
    {
      "cell_type": "code",
      "metadata": {
        "id": "0wiCvbkQblPs"
      },
      "source": [
        "# opening and written files \r\n",
        "for idx, f in enumerate(files):\r\n",
        "    with open(newCorpusDir+str(idx)+'.txt', 'w') as fout:\r\n",
        "        fout.write(f)"
      ],
      "execution_count": 7,
      "outputs": []
    },
    {
      "cell_type": "code",
      "metadata": {
        "id": "jZaogRo8bzZU"
      },
      "source": [
        "# record corpus \r\n",
        "newCorpus = PlaintextCorpusReader(newCorpusDir, '.*')"
      ],
      "execution_count": 8,
      "outputs": []
    },
    {
      "cell_type": "code",
      "metadata": {
        "colab": {
          "base_uri": "https://localhost:8080/"
        },
        "id": "qngjk_YhcLMU",
        "outputId": "a31fc8e6-8fb5-4e72-ebc2-59ed23edb2b9"
      },
      "source": [
        "type(newCorpus)"
      ],
      "execution_count": 9,
      "outputs": [
        {
          "output_type": "execute_result",
          "data": {
            "text/plain": [
              "nltk.corpus.reader.plaintext.PlaintextCorpusReader"
            ]
          },
          "metadata": {
            "tags": []
          },
          "execution_count": 9
        }
      ]
    },
    {
      "cell_type": "code",
      "metadata": {
        "colab": {
          "base_uri": "https://localhost:8080/"
        },
        "id": "8N0SJ8ycb8YO",
        "outputId": "ec99f100-c28b-447a-d200-ffc7e665d747"
      },
      "source": [
        "# corpus content \r\n",
        "print(newCorpus.words())\r\n",
        "print(\"\\n\")\r\n",
        "print(newCorpus.sents(newCorpus.fileids()[1]))\r\n",
        "print(\"\\n\")\r\n",
        "print(newCorpus.paras(newCorpus.fileids()[0]))\r\n",
        "print(\"\\n\")"
      ],
      "execution_count": 10,
      "outputs": [
        {
          "output_type": "stream",
          "text": [
            "['Um', 'dia', 'a', 'maioria', 'de', 'nós', 'irá', 'se', ...]\n",
            "\n",
            "\n",
            "[['Este', 'é', 'um', 'arquivo', 'pdf', 'que', 'contém', 'parte', 'do', 'texto', 'em', 'negrito', ',', 'parte', 'em', 'itálico', 'e', 'parte', 'sublinhado', '.'], ['Também', 'temos', 'um', 'título', 'neste', 'documento', '.'], ...]\n",
            "\n",
            "\n",
            "[[['Um', 'dia', 'a', 'maioria', 'de', 'nós', 'irá', 'se', 'separar', '.'], ['Sentiremos', 'saudades', 'de', 'todas', 'as', 'conversas', 'jogadas', 'fora', ',', 'as', 'descobertas', 'que', 'fizemos', ',', 'dos', 'sonhos', 'que', 'tivemos', ',', 'dos', 'tantos', 'risos', 'e', 'momentos', 'que', 'compartilhamos', '...']], [['Saudades', 'até', 'dos', 'momentos', 'de', 'lágrima', ',', 'da', 'angústia', ',', 'das', 'vésperas', 'de', 'finais', 'de', 'semana', ',', 'de', 'finais', 'de', 'ano', ',', 'enfim', '...', 'do', 'companheirismo', 'vivido', '...', 'Sempre', 'pensei', 'que', 'as', 'amizades', 'continuassem', 'para', 'sempre', '...']], ...]\n",
            "\n",
            "\n"
          ],
          "name": "stdout"
        }
      ]
    },
    {
      "cell_type": "markdown",
      "metadata": {
        "id": "2DlBEjtcb-zW"
      },
      "source": [
        "<br>\r\n",
        "<hr>"
      ]
    }
  ]
}