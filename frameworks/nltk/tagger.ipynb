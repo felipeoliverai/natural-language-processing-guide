{
  "nbformat": 4,
  "nbformat_minor": 0,
  "metadata": {
    "colab": {
      "name": "tagger.ipynb",
      "provenance": [],
      "collapsed_sections": []
    },
    "kernelspec": {
      "name": "python3",
      "display_name": "Python 3"
    }
  },
  "cells": [
    {
      "cell_type": "markdown",
      "metadata": {
        "id": "O_G7x6Wh-B_i"
      },
      "source": [
        "### Tagger \r\n",
        "\r\n",
        "<br>"
      ]
    },
    {
      "cell_type": "code",
      "metadata": {
        "colab": {
          "base_uri": "https://localhost:8080/"
        },
        "id": "Z9nUrnPj9-wQ",
        "outputId": "8a8b54da-3ae9-4a0a-ad32-5aadbe5ccc58"
      },
      "source": [
        "import nltk \r\n",
        "nltk.download('punkt')\r\n",
        "nltk.download(\"mac_morpho\")\r\n",
        "from nltk.corpus import mac_morpho"
      ],
      "execution_count": 1,
      "outputs": [
        {
          "output_type": "stream",
          "text": [
            "[nltk_data] Downloading package punkt to /root/nltk_data...\n",
            "[nltk_data]   Package punkt is already up-to-date!\n",
            "[nltk_data] Downloading package mac_morpho to /root/nltk_data...\n",
            "[nltk_data]   Package mac_morpho is already up-to-date!\n"
          ],
          "name": "stdout"
        }
      ]
    },
    {
      "cell_type": "code",
      "metadata": {
        "colab": {
          "base_uri": "https://localhost:8080/"
        },
        "id": "ayvEaOuG-H_X",
        "outputId": "8780ac9d-d432-4c95-f9e3-78484cb12e73"
      },
      "source": [
        "# Buscando os tokens etiquetados no corpus\r\n",
        "\r\n",
        "sentencas_etiquetadas = mac_morpho.tagged_sents()\r\n",
        "print(\"\\nSentenças etiquetados\")\r\n",
        "print(sentencas_etiquetadas)"
      ],
      "execution_count": 2,
      "outputs": [
        {
          "output_type": "stream",
          "text": [
            "\n",
            "Sentenças etiquetados\n",
            "[[('Jersei', 'N'), ('atinge', 'V'), ('média', 'N'), ('de', 'PREP'), ('Cr$', 'CUR'), ('1,4', 'NUM'), ('milhão', 'N'), ('em', 'PREP|+'), ('a', 'ART'), ('venda', 'N'), ('de', 'PREP|+'), ('a', 'ART'), ('Pinhal', 'NPROP'), ('em', 'PREP'), ('São', 'NPROP'), ('Paulo', 'NPROP')], [('Programe', 'V'), ('sua', 'PROADJ'), ('viagem', 'N'), ('a', 'PREP|+'), ('a', 'ART'), ('Exposição', 'NPROP'), ('Nacional', 'NPROP'), ('do', 'NPROP'), ('Zebu', 'NPROP'), (',', ','), ('que', 'PRO-KS-REL'), ('começa', 'V'), ('dia', 'N'), ('25', 'N|AP')], ...]\n"
          ],
          "name": "stdout"
        }
      ]
    },
    {
      "cell_type": "code",
      "metadata": {
        "colab": {
          "base_uri": "https://localhost:8080/",
          "height": 35
        },
        "id": "8wD05b2d-fme",
        "outputId": "a0478519-defe-4276-c803-8dcfc80dd4e7"
      },
      "source": [
        "# Definindo nosso texto\r\n",
        "texto = 'A manhã está ensolarada'\r\n",
        "\r\n",
        "# Tokenização\r\n",
        "tokens = nltk.word_tokenize(texto)\r\n",
        "\r\n",
        "# Aplicando Tagger\r\n",
        "tags = [tag for (word, tag) in mac_morpho.tagged_words()]\r\n",
        "nltk.FreqDist(tags).max()\r\n"
      ],
      "execution_count": 3,
      "outputs": [
        {
          "output_type": "execute_result",
          "data": {
            "application/vnd.google.colaboratory.intrinsic+json": {
              "type": "string"
            },
            "text/plain": [
              "'N'"
            ]
          },
          "metadata": {
            "tags": []
          },
          "execution_count": 3
        }
      ]
    },
    {
      "cell_type": "code",
      "metadata": {
        "colab": {
          "base_uri": "https://localhost:8080/"
        },
        "id": "gcpTraCX_Bfp",
        "outputId": "4e809dc9-9ecf-4698-d959-918b8b1a1978"
      },
      "source": [
        "# Definindo uma tag padrão a todas as palavras\r\n",
        "etiqPadrao = nltk.tag.DefaultTagger('N')\r\n",
        "\r\n",
        "# Print\r\n",
        "print(\"\\nTexto etiquetado\")\r\n",
        "print(etiqPadrao.tag(tokens))\r\n",
        "print(\"\\n\")\r\n"
      ],
      "execution_count": 4,
      "outputs": [
        {
          "output_type": "stream",
          "text": [
            "\n",
            "Texto etiquetado\n",
            "[('A', 'N'), ('manhã', 'N'), ('está', 'N'), ('ensolarada', 'N')]\n",
            "\n",
            "\n"
          ],
          "name": "stdout"
        }
      ]
    },
    {
      "cell_type": "markdown",
      "metadata": {
        "id": "Jni4zlcdAe9n"
      },
      "source": [
        "<br>\r\n",
        "<hr>"
      ]
    }
  ]
}