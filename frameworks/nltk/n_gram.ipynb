{
  "nbformat": 4,
  "nbformat_minor": 0,
  "metadata": {
    "colab": {
      "name": "n-gram.ipynb",
      "provenance": [],
      "collapsed_sections": []
    },
    "kernelspec": {
      "name": "python3",
      "display_name": "Python 3"
    }
  },
  "cells": [
    {
      "cell_type": "markdown",
      "metadata": {
        "id": "sk8immbOC5CY"
      },
      "source": [
        "### N-gram \r\n",
        "\r\n",
        "<br>\r\n",
        "<hr>"
      ]
    },
    {
      "cell_type": "code",
      "metadata": {
        "id": "m4vMVZWGC2T-"
      },
      "source": [
        "from nltk.util import ngrams\r\n",
        "from nltk.tokenize import sent_tokenize, word_tokenize\r\n",
        "from nltk.collocations import *"
      ],
      "execution_count": 1,
      "outputs": []
    },
    {
      "cell_type": "code",
      "metadata": {
        "id": "m1Dr4N2EC-EZ"
      },
      "source": [
        "# N-gram (bi-gram)\r\n",
        "\r\n",
        "data = [\"this\", \"is\", \"not\", \"a\", \"test\", \"this\", \"is\", \"real\", \"not\", \"a\", \"test\", \"this\", \"is\", \"this\", \"is\", \"real\", \"not\", \"a\", \"test\"]\r\n",
        "\r\n",
        "bigrams = ngrams(data, 2)\r\n",
        "\r\n",
        "bigrams_c = {}\r\n",
        "for b in bigrams:\r\n",
        "    if b not in bigrams_c:\r\n",
        "        bigrams_c[b] = 1\r\n",
        "    else:\r\n",
        "        bigrams_c[b] += 1"
      ],
      "execution_count": 2,
      "outputs": []
    },
    {
      "cell_type": "code",
      "metadata": {
        "colab": {
          "base_uri": "https://localhost:8080/"
        },
        "id": "Tq5eHIpvDDgX",
        "outputId": "4d600468-7141-49ea-854d-43b76d9b449f"
      },
      "source": [
        "# N-gram with frequency \r\n",
        "bigrams_c"
      ],
      "execution_count": 3,
      "outputs": [
        {
          "output_type": "execute_result",
          "data": {
            "text/plain": [
              "{('a', 'test'): 3,\n",
              " ('is', 'not'): 1,\n",
              " ('is', 'real'): 2,\n",
              " ('is', 'this'): 1,\n",
              " ('not', 'a'): 3,\n",
              " ('real', 'not'): 2,\n",
              " ('test', 'this'): 2,\n",
              " ('this', 'is'): 4}"
            ]
          },
          "metadata": {
            "tags": []
          },
          "execution_count": 3
        }
      ]
    },
    {
      "cell_type": "markdown",
      "metadata": {
        "id": "Ixj10iNWDPl4"
      },
      "source": [
        "<br>\r\n",
        "<hr>\r\n"
      ]
    }
  ]
}