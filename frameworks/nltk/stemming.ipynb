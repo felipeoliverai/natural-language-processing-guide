{
  "nbformat": 4,
  "nbformat_minor": 0,
  "metadata": {
    "colab": {
      "name": "stemming.ipynb",
      "provenance": [],
      "collapsed_sections": [],
      "toc_visible": true
    },
    "kernelspec": {
      "name": "python3",
      "display_name": "Python 3"
    }
  },
  "cells": [
    {
      "cell_type": "markdown",
      "metadata": {
        "id": "iZx2Zzq71tag"
      },
      "source": [
        "### Stemming \r\n",
        "\r\n",
        "<br>\r\n",
        "<hr>"
      ]
    },
    {
      "cell_type": "code",
      "metadata": {
        "id": "Fhbiiq1y1SLj"
      },
      "source": [
        "import nltk\r\n",
        "from nltk.stem import PorterStemmer\r\n",
        "from nltk.stem import LancasterStemmer\r\n",
        "from nltk.stem import RegexpStemmer\r\n",
        "from nltk.stem import SnowballStemmer"
      ],
      "execution_count": 1,
      "outputs": []
    },
    {
      "cell_type": "code",
      "metadata": {
        "id": "voYw-VfW1YgY"
      },
      "source": [
        "# Porter Stemmer \r\n",
        "stemmer = PorterStemmer()"
      ],
      "execution_count": 2,
      "outputs": []
    },
    {
      "cell_type": "code",
      "metadata": {
        "colab": {
          "base_uri": "https://localhost:8080/"
        },
        "id": "AV_8NbSk1h5X",
        "outputId": "10fa3d35-6059-4311-835c-0d509b5e3739"
      },
      "source": [
        "# apply stemming \r\n",
        "print(\"\\nPorterStemmer\")\r\n",
        "print(stemmer.stem('cooking'))\r\n",
        "print(stemmer.stem('cookery'))"
      ],
      "execution_count": 3,
      "outputs": [
        {
          "output_type": "stream",
          "text": [
            "\n",
            "PorterStemmer\n",
            "cook\n",
            "cookeri\n"
          ],
          "name": "stdout"
        }
      ]
    },
    {
      "cell_type": "code",
      "metadata": {
        "id": "XWnDvHzx1z6I"
      },
      "source": [
        "# Lancaster Stemmer\r\n",
        "stemmer2 = LancasterStemmer()"
      ],
      "execution_count": 4,
      "outputs": []
    },
    {
      "cell_type": "code",
      "metadata": {
        "colab": {
          "base_uri": "https://localhost:8080/"
        },
        "id": "TOPWHik-2jpE",
        "outputId": "ba328b2d-7acb-4093-bc1e-0beb0436d383"
      },
      "source": [
        "print(\"\\nLancasterStemmer\")\r\n",
        "print(stemmer2.stem('cooking'))\r\n",
        "print(stemmer2.stem('cookery'))"
      ],
      "execution_count": 5,
      "outputs": [
        {
          "output_type": "stream",
          "text": [
            "\n",
            "LancasterStemmer\n",
            "cook\n",
            "cookery\n"
          ],
          "name": "stdout"
        }
      ]
    },
    {
      "cell_type": "code",
      "metadata": {
        "id": "xrifiKCY2l01"
      },
      "source": [
        "# Regex stemmer (suffix for removing = \"ing\")\r\n",
        "stemmer3 = RegexpStemmer('ing')"
      ],
      "execution_count": 6,
      "outputs": []
    },
    {
      "cell_type": "code",
      "metadata": {
        "colab": {
          "base_uri": "https://localhost:8080/"
        },
        "id": "iwjxR4re2u7f",
        "outputId": "efeb594f-9535-4666-bc1b-1457f12ecf7e"
      },
      "source": [
        "print(\"\\nRegexpStemmer\")\r\n",
        "print(stemmer3.stem('cooking'))\r\n",
        "print(stemmer3.stem('cookery'))"
      ],
      "execution_count": 7,
      "outputs": [
        {
          "output_type": "stream",
          "text": [
            "\n",
            "RegexpStemmer\n",
            "cook\n",
            "cookery\n"
          ],
          "name": "stdout"
        }
      ]
    },
    {
      "cell_type": "code",
      "metadata": {
        "colab": {
          "base_uri": "https://localhost:8080/"
        },
        "id": "UZ66Tv3F2xVl",
        "outputId": "050861f3-9575-4926-d31f-a51b79ea14f3"
      },
      "source": [
        "# languages \r\n",
        "SnowballStemmer.languages"
      ],
      "execution_count": 8,
      "outputs": [
        {
          "output_type": "execute_result",
          "data": {
            "text/plain": [
              "('arabic',\n",
              " 'danish',\n",
              " 'dutch',\n",
              " 'english',\n",
              " 'finnish',\n",
              " 'french',\n",
              " 'german',\n",
              " 'hungarian',\n",
              " 'italian',\n",
              " 'norwegian',\n",
              " 'porter',\n",
              " 'portuguese',\n",
              " 'romanian',\n",
              " 'russian',\n",
              " 'spanish',\n",
              " 'swedish')"
            ]
          },
          "metadata": {
            "tags": []
          },
          "execution_count": 8
        }
      ]
    },
    {
      "cell_type": "code",
      "metadata": {
        "colab": {
          "base_uri": "https://localhost:8080/"
        },
        "id": "pECmZK9E23PR",
        "outputId": "f251cb25-6794-492f-a09f-834e63d73a2c"
      },
      "source": [
        "portuguese_stemmer = SnowballStemmer('portuguese')\r\n",
        "print(\"\\nSnowballStemmer\")\r\n",
        "print(portuguese_stemmer.stem('Tudo bem'))"
      ],
      "execution_count": 9,
      "outputs": [
        {
          "output_type": "stream",
          "text": [
            "\n",
            "SnowballStemmer\n",
            "tudo b\n"
          ],
          "name": "stdout"
        }
      ]
    },
    {
      "cell_type": "markdown",
      "metadata": {
        "id": "mBojQBK73QWY"
      },
      "source": [
        "<br>\r\n",
        "<hr>"
      ]
    }
  ]
}