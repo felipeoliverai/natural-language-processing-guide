{
  "nbformat": 4,
  "nbformat_minor": 0,
  "metadata": {
    "colab": {
      "name": "part-of-speech-tagger.ipynb",
      "provenance": [],
      "collapsed_sections": []
    },
    "kernelspec": {
      "name": "python3",
      "display_name": "Python 3"
    }
  },
  "cells": [
    {
      "cell_type": "markdown",
      "metadata": {
        "id": "OoY4r5RV-VhF"
      },
      "source": [
        "### Part-of-Speech Tagging \r\n",
        "\r\n",
        "<br>\r\n",
        "<hr>"
      ]
    },
    {
      "cell_type": "code",
      "metadata": {
        "colab": {
          "base_uri": "https://localhost:8080/"
        },
        "id": "C43Pjlwp-Lpw",
        "outputId": "15850da8-815f-41cf-b376-3b47815d9056"
      },
      "source": [
        "import nltk\r\n",
        "#nltk.download('all')\r\n",
        "nltk.download('punkt')\r\n",
        "nltk.download('averaged_perceptron_tagger')\r\n",
        "nltk.download('tagsets')\r\n",
        "from nltk.tag import pos_tag\r\n",
        "from nltk.tag import pos_tag_sents\r\n",
        "from nltk.tokenize import sent_tokenize, word_tokenize"
      ],
      "execution_count": 1,
      "outputs": [
        {
          "output_type": "stream",
          "text": [
            "[nltk_data] Downloading package punkt to /root/nltk_data...\n",
            "[nltk_data]   Package punkt is already up-to-date!\n",
            "[nltk_data] Downloading package averaged_perceptron_tagger to\n",
            "[nltk_data]     /root/nltk_data...\n",
            "[nltk_data]   Package averaged_perceptron_tagger is already up-to-\n",
            "[nltk_data]       date!\n",
            "[nltk_data] Downloading package tagsets to /root/nltk_data...\n",
            "[nltk_data]   Package tagsets is already up-to-date!\n"
          ],
          "name": "stdout"
        }
      ]
    },
    {
      "cell_type": "code",
      "metadata": {
        "id": "KgPSjPEW-VFO"
      },
      "source": [
        "text = \"Time to start with natural language processing. Python will make our life easier!\""
      ],
      "execution_count": 2,
      "outputs": []
    },
    {
      "cell_type": "code",
      "metadata": {
        "colab": {
          "base_uri": "https://localhost:8080/"
        },
        "id": "9Ao-Bv36-3I8",
        "outputId": "10965b20-0170-494d-a83a-14f97ef68654"
      },
      "source": [
        "# tokenization \r\n",
        "sent_tokens = sent_tokenize(text)\r\n",
        "print(sent_tokens)"
      ],
      "execution_count": 3,
      "outputs": [
        {
          "output_type": "stream",
          "text": [
            "['Time to start with natural language processing.', 'Python will make our life easier!']\n"
          ],
          "name": "stdout"
        }
      ]
    },
    {
      "cell_type": "code",
      "metadata": {
        "colab": {
          "base_uri": "https://localhost:8080/"
        },
        "id": "Go4PaMaL-4qt",
        "outputId": "44500794-3dd7-4aec-d6b8-08bdb275d552"
      },
      "source": [
        "word_tokens = word_tokenize(text)\r\n",
        "print(word_tokens)"
      ],
      "execution_count": 4,
      "outputs": [
        {
          "output_type": "stream",
          "text": [
            "['Time', 'to', 'start', 'with', 'natural', 'language', 'processing', '.', 'Python', 'will', 'make', 'our', 'life', 'easier', '!']\n"
          ],
          "name": "stdout"
        }
      ]
    },
    {
      "cell_type": "code",
      "metadata": {
        "id": "lckKf-oE-9D-"
      },
      "source": [
        "# apply POS-tagging \r\n",
        "tags = pos_tag(word_tokens)"
      ],
      "execution_count": 5,
      "outputs": []
    },
    {
      "cell_type": "code",
      "metadata": {
        "colab": {
          "base_uri": "https://localhost:8080/"
        },
        "id": "c8UZS1fr_2OJ",
        "outputId": "3eaf8013-f51d-45b8-91aa-897ebc26b8c1"
      },
      "source": [
        "# word gramatical classes \r\n",
        "print(tags)"
      ],
      "execution_count": 6,
      "outputs": [
        {
          "output_type": "stream",
          "text": [
            "[('Time', 'NNP'), ('to', 'TO'), ('start', 'VB'), ('with', 'IN'), ('natural', 'JJ'), ('language', 'NN'), ('processing', 'NN'), ('.', '.'), ('Python', 'NNP'), ('will', 'MD'), ('make', 'VB'), ('our', 'PRP$'), ('life', 'NN'), ('easier', 'JJR'), ('!', '.')]\n"
          ],
          "name": "stdout"
        }
      ]
    },
    {
      "cell_type": "code",
      "metadata": {
        "colab": {
          "base_uri": "https://localhost:8080/"
        },
        "id": "W69BD781AWfI",
        "outputId": "530c21cf-087a-4546-9646-f0b02a849097"
      },
      "source": [
        "# what mean POS-tagger codes \r\n",
        "nltk.help.upenn_tagset('JJ')"
      ],
      "execution_count": 7,
      "outputs": [
        {
          "output_type": "stream",
          "text": [
            "JJ: adjective or numeral, ordinal\n",
            "    third ill-mannered pre-war regrettable oiled calamitous first separable\n",
            "    ectoplasmic battery-powered participatory fourth still-to-be-named\n",
            "    multilingual multi-disciplinary ...\n"
          ],
          "name": "stdout"
        }
      ]
    },
    {
      "cell_type": "code",
      "metadata": {
        "colab": {
          "base_uri": "https://localhost:8080/"
        },
        "id": "C0a376cSAlLo",
        "outputId": "331b48de-f159-4827-ba3c-ecdb73d99fbb"
      },
      "source": [
        "# list of POS-taggers identificated at text \r\n",
        "list_of_tags = []\r\n",
        "for pair in tags:\r\n",
        "    list_of_tags.append(pair[1])\r\n",
        "list_of_tags = list(set(list_of_tags))\r\n",
        "list_of_tags"
      ],
      "execution_count": 8,
      "outputs": [
        {
          "output_type": "execute_result",
          "data": {
            "text/plain": [
              "['MD', 'IN', 'PRP$', 'NN', 'JJ', 'NNP', '.', 'JJR', 'VB', 'TO']"
            ]
          },
          "metadata": {
            "tags": []
          },
          "execution_count": 8
        }
      ]
    },
    {
      "cell_type": "code",
      "metadata": {
        "colab": {
          "base_uri": "https://localhost:8080/"
        },
        "id": "S8jH6ViFA8TF",
        "outputId": "99b3905c-a2e8-47b5-d4db-f49151089771"
      },
      "source": [
        "# POS-tagger explanation presenting in text \r\n",
        "for pos in list_of_tags:\r\n",
        "  print(nltk.help.upenn_tagset(pos))"
      ],
      "execution_count": 9,
      "outputs": [
        {
          "output_type": "stream",
          "text": [
            "MD: modal auxiliary\n",
            "    can cannot could couldn't dare may might must need ought shall should\n",
            "    shouldn't will would\n",
            "None\n",
            "IN: preposition or conjunction, subordinating\n",
            "    astride among uppon whether out inside pro despite on by throughout\n",
            "    below within for towards near behind atop around if like until below\n",
            "    next into if beside ...\n",
            "None\n",
            "PRP$: pronoun, possessive\n",
            "    her his mine my our ours their thy your\n",
            "None\n",
            "NN: noun, common, singular or mass\n",
            "    common-carrier cabbage knuckle-duster Casino afghan shed thermostat\n",
            "    investment slide humour falloff slick wind hyena override subhumanity\n",
            "    machinist ...\n",
            "None\n",
            "JJ: adjective or numeral, ordinal\n",
            "    third ill-mannered pre-war regrettable oiled calamitous first separable\n",
            "    ectoplasmic battery-powered participatory fourth still-to-be-named\n",
            "    multilingual multi-disciplinary ...\n",
            "None\n",
            "NNP: noun, proper, singular\n",
            "    Motown Venneboerger Czestochwa Ranzer Conchita Trumplane Christos\n",
            "    Oceanside Escobar Kreisler Sawyer Cougar Yvette Ervin ODI Darryl CTCA\n",
            "    Shannon A.K.C. Meltex Liverpool ...\n",
            "None\n",
            ".: sentence terminator\n",
            "    . ! ?\n",
            "None\n",
            "JJR: adjective, comparative\n",
            "    bleaker braver breezier briefer brighter brisker broader bumper busier\n",
            "    calmer cheaper choosier cleaner clearer closer colder commoner costlier\n",
            "    cozier creamier crunchier cuter ...\n",
            "None\n",
            "VB: verb, base form\n",
            "    ask assemble assess assign assume atone attention avoid bake balkanize\n",
            "    bank begin behold believe bend benefit bevel beware bless boil bomb\n",
            "    boost brace break bring broil brush build ...\n",
            "None\n",
            "TO: \"to\" as preposition or infinitive marker\n",
            "    to\n",
            "None\n"
          ],
          "name": "stdout"
        }
      ]
    },
    {
      "cell_type": "markdown",
      "metadata": {
        "id": "37gFsQjTCOEG"
      },
      "source": [
        "<br>\r\n",
        "<hr>\r\n",
        "<br>\r\n",
        "\r\n",
        "\r\n",
        "### POS-tagger on sentence \r\n",
        "\r\n"
      ]
    },
    {
      "cell_type": "code",
      "metadata": {
        "id": "cgmjyzu7Ca2V"
      },
      "source": [
        "text = \"San francisco is the best city on the california state. On the other hand Colorado is bored.\"\r\n",
        "sent_token = sent_tokenize(text)"
      ],
      "execution_count": 10,
      "outputs": []
    },
    {
      "cell_type": "code",
      "metadata": {
        "colab": {
          "base_uri": "https://localhost:8080/"
        },
        "id": "P6R9jx8pDto_",
        "outputId": "6c788f58-67ab-48db-ed7b-e88765e979a7"
      },
      "source": [
        "print(sent_token)"
      ],
      "execution_count": 11,
      "outputs": [
        {
          "output_type": "stream",
          "text": [
            "['San francisco is the best city on the california state.', 'On the other hand Colorado is bored.']\n"
          ],
          "name": "stdout"
        }
      ]
    },
    {
      "cell_type": "code",
      "metadata": {
        "id": "2guMi4fWCYFq"
      },
      "source": [
        "# POS-tagger on sentence\r\n",
        "sent_pos = pos_tag_sents(sent_token)"
      ],
      "execution_count": 12,
      "outputs": []
    },
    {
      "cell_type": "code",
      "metadata": {
        "colab": {
          "base_uri": "https://localhost:8080/"
        },
        "id": "vCdFLmPRCucX",
        "outputId": "64fb8fc4-87a1-45ab-9f18-5a061e0b9d24"
      },
      "source": [
        "print(sent_pos)"
      ],
      "execution_count": 13,
      "outputs": [
        {
          "output_type": "stream",
          "text": [
            "[[('S', 'VB'), ('a', 'DT'), ('n', 'JJ'), (' ', 'NN'), ('f', 'NN'), ('r', 'VBZ'), ('a', 'DT'), ('n', 'JJ'), ('c', 'NN'), ('i', 'NN'), ('s', 'VBP'), ('c', 'NN'), ('o', 'IN'), (' ', 'NN'), ('i', 'NN'), ('s', 'VBP'), (' ', 'JJ'), ('t', 'NN'), ('h', 'NN'), ('e', 'NN'), (' ', 'NNP'), ('b', 'NN'), ('e', 'NN'), ('s', 'NN'), ('t', 'NN'), (' ', 'NNP'), ('c', 'NN'), ('i', 'NN'), ('t', 'VBP'), ('y', 'NN'), (' ', 'NNP'), ('o', 'VBZ'), ('n', 'JJ'), (' ', 'NNP'), ('t', 'NN'), ('h', 'NN'), ('e', 'NN'), (' ', 'NNP'), ('c', 'VBZ'), ('a', 'DT'), ('l', 'NN'), ('i', 'NN'), ('f', 'VBP'), ('o', 'JJ'), ('r', 'NN'), ('n', 'NN'), ('i', 'VBZ'), ('a', 'DT'), (' ', 'JJ'), ('s', 'NN'), ('t', 'VBD'), ('a', 'DT'), ('t', 'NN'), ('e', 'NN'), ('.', '.')], [('O', 'NNP'), ('n', 'CC'), (' ', 'NNP'), ('t', 'VBP'), ('h', 'NN'), ('e', 'NN'), (' ', 'NNP'), ('o', 'VBZ'), ('t', 'JJ'), ('h', 'NN'), ('e', 'NN'), ('r', 'NN'), (' ', 'NNP'), ('h', 'VBZ'), ('a', 'DT'), ('n', 'JJ'), ('d', 'NN'), (' ', 'NNP'), ('C', 'NNP'), ('o', 'MD'), ('l', 'VB'), ('o', 'JJ'), ('r', 'NN'), ('a', 'DT'), ('d', 'NN'), ('o', 'IN'), (' ', 'NN'), ('i', 'NN'), ('s', 'VBP'), (' ', 'NN'), ('b', 'NN'), ('o', 'NN'), ('r', 'NN'), ('e', 'NN'), ('d', 'NN'), ('.', '.')]]\n"
          ],
          "name": "stdout"
        }
      ]
    },
    {
      "cell_type": "code",
      "metadata": {
        "colab": {
          "base_uri": "https://localhost:8080/"
        },
        "id": "ro3WyJnTCv5j",
        "outputId": "393d10dd-352b-44e0-d4ac-688d6b0c225f"
      },
      "source": [
        "# POS-tagger content \r\n",
        "list_pos_sentence = []\r\n",
        "\r\n",
        "for pair in sent_pos:\r\n",
        "  list_pos_sentence.append(pair[1])\r\n",
        "\r\n",
        "list_content_pos = list(set(list_pos_sentence))\r\n",
        "list_content_pos"
      ],
      "execution_count": 14,
      "outputs": [
        {
          "output_type": "execute_result",
          "data": {
            "text/plain": [
              "[('n', 'CC'), ('a', 'DT')]"
            ]
          },
          "metadata": {
            "tags": []
          },
          "execution_count": 14
        }
      ]
    }
  ]
}