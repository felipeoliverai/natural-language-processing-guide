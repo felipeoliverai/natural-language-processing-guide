{
  "nbformat": 4,
  "nbformat_minor": 0,
  "metadata": {
    "colab": {
      "name": "part-of-speech-tagger.ipynb",
      "provenance": [],
      "collapsed_sections": [],
      "toc_visible": true
    },
    "kernelspec": {
      "name": "python3",
      "display_name": "Python 3"
    }
  },
  "cells": [
    {
      "cell_type": "markdown",
      "metadata": {
        "id": "OoY4r5RV-VhF"
      },
      "source": [
        "### Part-of-Speech Tagging \r\n",
        "\r\n",
        "<br>\r\n",
        "<hr>"
      ]
    },
    {
      "cell_type": "code",
      "metadata": {
        "colab": {
          "base_uri": "https://localhost:8080/"
        },
        "id": "C43Pjlwp-Lpw",
        "outputId": "1bdc770a-8c3b-4fa0-8933-77c1f734af05"
      },
      "source": [
        "import nltk\r\n",
        "#nltk.download('all')\r\n",
        "nltk.download('punkt')\r\n",
        "nltk.download('averaged_perceptron_tagger')\r\n",
        "nltk.download('tagsets')\r\n",
        "from nltk.tag import pos_tag\r\n",
        "from nltk.tag import pos_tag_sents\r\n",
        "from nltk.tokenize import sent_tokenize, word_tokenize"
      ],
      "execution_count": 1,
      "outputs": [
        {
          "output_type": "stream",
          "text": [
            "[nltk_data] Downloading package punkt to /root/nltk_data...\n",
            "[nltk_data]   Package punkt is already up-to-date!\n",
            "[nltk_data] Downloading package averaged_perceptron_tagger to\n",
            "[nltk_data]     /root/nltk_data...\n",
            "[nltk_data]   Package averaged_perceptron_tagger is already up-to-\n",
            "[nltk_data]       date!\n",
            "[nltk_data] Downloading package tagsets to /root/nltk_data...\n",
            "[nltk_data]   Package tagsets is already up-to-date!\n"
          ],
          "name": "stdout"
        }
      ]
    },
    {
      "cell_type": "code",
      "metadata": {
        "id": "KgPSjPEW-VFO"
      },
      "source": [
        "text = \"Time to start with natural language processing. Python will make our life easier!\""
      ],
      "execution_count": 2,
      "outputs": []
    },
    {
      "cell_type": "code",
      "metadata": {
        "colab": {
          "base_uri": "https://localhost:8080/"
        },
        "id": "9Ao-Bv36-3I8",
        "outputId": "2b4c09d6-729c-4f09-fe63-811c21b57567"
      },
      "source": [
        "# tokenization \r\n",
        "sent_tokens = sent_tokenize(text)\r\n",
        "print(sent_tokens)"
      ],
      "execution_count": 3,
      "outputs": [
        {
          "output_type": "stream",
          "text": [
            "['Time to start with natural language processing.', 'Python will make our life easier!']\n"
          ],
          "name": "stdout"
        }
      ]
    },
    {
      "cell_type": "code",
      "metadata": {
        "colab": {
          "base_uri": "https://localhost:8080/"
        },
        "id": "Go4PaMaL-4qt",
        "outputId": "515b16cf-ee57-4882-c98c-43f5bb2d4568"
      },
      "source": [
        "word_tokens = word_tokenize(text)\r\n",
        "print(word_tokens)"
      ],
      "execution_count": 4,
      "outputs": [
        {
          "output_type": "stream",
          "text": [
            "['Time', 'to', 'start', 'with', 'natural', 'language', 'processing', '.', 'Python', 'will', 'make', 'our', 'life', 'easier', '!']\n"
          ],
          "name": "stdout"
        }
      ]
    },
    {
      "cell_type": "code",
      "metadata": {
        "id": "lckKf-oE-9D-"
      },
      "source": [
        "# apply POS-tagging \r\n",
        "tags = pos_tag(word_tokens)"
      ],
      "execution_count": 5,
      "outputs": []
    },
    {
      "cell_type": "code",
      "metadata": {
        "colab": {
          "base_uri": "https://localhost:8080/"
        },
        "id": "c8UZS1fr_2OJ",
        "outputId": "156da612-cad9-4184-f90c-40e392fad849"
      },
      "source": [
        "# word gramatical classes \r\n",
        "print(tags)"
      ],
      "execution_count": 6,
      "outputs": [
        {
          "output_type": "stream",
          "text": [
            "[('Time', 'NNP'), ('to', 'TO'), ('start', 'VB'), ('with', 'IN'), ('natural', 'JJ'), ('language', 'NN'), ('processing', 'NN'), ('.', '.'), ('Python', 'NNP'), ('will', 'MD'), ('make', 'VB'), ('our', 'PRP$'), ('life', 'NN'), ('easier', 'JJR'), ('!', '.')]\n"
          ],
          "name": "stdout"
        }
      ]
    },
    {
      "cell_type": "code",
      "metadata": {
        "colab": {
          "base_uri": "https://localhost:8080/"
        },
        "id": "W69BD781AWfI",
        "outputId": "aa6d34f3-874a-4d9e-f0b6-a14e11a957c6"
      },
      "source": [
        "# what mean POS-tagger codes \r\n",
        "nltk.help.upenn_tagset('JJ')"
      ],
      "execution_count": 7,
      "outputs": [
        {
          "output_type": "stream",
          "text": [
            "JJ: adjective or numeral, ordinal\n",
            "    third ill-mannered pre-war regrettable oiled calamitous first separable\n",
            "    ectoplasmic battery-powered participatory fourth still-to-be-named\n",
            "    multilingual multi-disciplinary ...\n"
          ],
          "name": "stdout"
        }
      ]
    },
    {
      "cell_type": "code",
      "metadata": {
        "colab": {
          "base_uri": "https://localhost:8080/"
        },
        "id": "C0a376cSAlLo",
        "outputId": "3e49ffad-0413-49c7-bb42-7b68ee2b2617"
      },
      "source": [
        "# list of POS-taggers identificated at text \r\n",
        "list_of_tags = []\r\n",
        "for pair in tags:\r\n",
        "    list_of_tags.append(pair[1])\r\n",
        "list_of_tags = list(set(list_of_tags))\r\n",
        "list_of_tags"
      ],
      "execution_count": 8,
      "outputs": [
        {
          "output_type": "execute_result",
          "data": {
            "text/plain": [
              "['NN', 'JJ', 'MD', '.', 'TO', 'IN', 'PRP$', 'JJR', 'VB', 'NNP']"
            ]
          },
          "metadata": {
            "tags": []
          },
          "execution_count": 8
        }
      ]
    },
    {
      "cell_type": "code",
      "metadata": {
        "colab": {
          "base_uri": "https://localhost:8080/"
        },
        "id": "S8jH6ViFA8TF",
        "outputId": "39415699-57e3-4e1c-c99b-7ac305d560a3"
      },
      "source": [
        "# POS-tagger explanation presenting in text \r\n",
        "for pos in list_of_tags:\r\n",
        "  print(nltk.help.upenn_tagset(pos))"
      ],
      "execution_count": 9,
      "outputs": [
        {
          "output_type": "stream",
          "text": [
            "NN: noun, common, singular or mass\n",
            "    common-carrier cabbage knuckle-duster Casino afghan shed thermostat\n",
            "    investment slide humour falloff slick wind hyena override subhumanity\n",
            "    machinist ...\n",
            "None\n",
            "JJ: adjective or numeral, ordinal\n",
            "    third ill-mannered pre-war regrettable oiled calamitous first separable\n",
            "    ectoplasmic battery-powered participatory fourth still-to-be-named\n",
            "    multilingual multi-disciplinary ...\n",
            "None\n",
            "MD: modal auxiliary\n",
            "    can cannot could couldn't dare may might must need ought shall should\n",
            "    shouldn't will would\n",
            "None\n",
            ".: sentence terminator\n",
            "    . ! ?\n",
            "None\n",
            "TO: \"to\" as preposition or infinitive marker\n",
            "    to\n",
            "None\n",
            "IN: preposition or conjunction, subordinating\n",
            "    astride among uppon whether out inside pro despite on by throughout\n",
            "    below within for towards near behind atop around if like until below\n",
            "    next into if beside ...\n",
            "None\n",
            "PRP$: pronoun, possessive\n",
            "    her his mine my our ours their thy your\n",
            "None\n",
            "JJR: adjective, comparative\n",
            "    bleaker braver breezier briefer brighter brisker broader bumper busier\n",
            "    calmer cheaper choosier cleaner clearer closer colder commoner costlier\n",
            "    cozier creamier crunchier cuter ...\n",
            "None\n",
            "VB: verb, base form\n",
            "    ask assemble assess assign assume atone attention avoid bake balkanize\n",
            "    bank begin behold believe bend benefit bevel beware bless boil bomb\n",
            "    boost brace break bring broil brush build ...\n",
            "None\n",
            "NNP: noun, proper, singular\n",
            "    Motown Venneboerger Czestochwa Ranzer Conchita Trumplane Christos\n",
            "    Oceanside Escobar Kreisler Sawyer Cougar Yvette Ervin ODI Darryl CTCA\n",
            "    Shannon A.K.C. Meltex Liverpool ...\n",
            "None\n"
          ],
          "name": "stdout"
        }
      ]
    },
    {
      "cell_type": "markdown",
      "metadata": {
        "id": "37gFsQjTCOEG"
      },
      "source": [
        "<br>\r\n",
        "<hr>\r\n",
        "<br>\r\n",
        "\r\n",
        "\r\n",
        "### POS-tagger on sentence \r\n",
        "\r\n"
      ]
    },
    {
      "cell_type": "code",
      "metadata": {
        "id": "cgmjyzu7Ca2V"
      },
      "source": [
        "text = \"San francisco is the best city on the california state. On the other hand Colorado is bored.\"\r\n",
        "sent_token = sent_tokenize(text)"
      ],
      "execution_count": 10,
      "outputs": []
    },
    {
      "cell_type": "code",
      "metadata": {
        "colab": {
          "base_uri": "https://localhost:8080/"
        },
        "id": "P6R9jx8pDto_",
        "outputId": "3887b768-3f08-4a82-94ca-d02138d2249c"
      },
      "source": [
        "print(sent_token)"
      ],
      "execution_count": 11,
      "outputs": [
        {
          "output_type": "stream",
          "text": [
            "['San francisco is the best city on the california state.', 'On the other hand Colorado is bored.']\n"
          ],
          "name": "stdout"
        }
      ]
    },
    {
      "cell_type": "code",
      "metadata": {
        "id": "2guMi4fWCYFq"
      },
      "source": [
        "# POS-tagger on sentence\r\n",
        "sent_pos = pos_tag_sents(sent_token)"
      ],
      "execution_count": 12,
      "outputs": []
    },
    {
      "cell_type": "code",
      "metadata": {
        "colab": {
          "base_uri": "https://localhost:8080/"
        },
        "id": "vCdFLmPRCucX",
        "outputId": "ffa86f60-1025-4bf1-de8e-69fb478780a0"
      },
      "source": [
        "print(sent_pos)"
      ],
      "execution_count": 13,
      "outputs": [
        {
          "output_type": "stream",
          "text": [
            "[[('S', 'VB'), ('a', 'DT'), ('n', 'JJ'), (' ', 'NN'), ('f', 'NN'), ('r', 'VBZ'), ('a', 'DT'), ('n', 'JJ'), ('c', 'NN'), ('i', 'NN'), ('s', 'VBP'), ('c', 'NN'), ('o', 'IN'), (' ', 'NN'), ('i', 'NN'), ('s', 'VBP'), (' ', 'JJ'), ('t', 'NN'), ('h', 'NN'), ('e', 'NN'), (' ', 'NNP'), ('b', 'NN'), ('e', 'NN'), ('s', 'NN'), ('t', 'NN'), (' ', 'NNP'), ('c', 'NN'), ('i', 'NN'), ('t', 'VBP'), ('y', 'NN'), (' ', 'NNP'), ('o', 'VBZ'), ('n', 'JJ'), (' ', 'NNP'), ('t', 'NN'), ('h', 'NN'), ('e', 'NN'), (' ', 'NNP'), ('c', 'VBZ'), ('a', 'DT'), ('l', 'NN'), ('i', 'NN'), ('f', 'VBP'), ('o', 'JJ'), ('r', 'NN'), ('n', 'NN'), ('i', 'VBZ'), ('a', 'DT'), (' ', 'JJ'), ('s', 'NN'), ('t', 'VBD'), ('a', 'DT'), ('t', 'NN'), ('e', 'NN'), ('.', '.')], [('O', 'NNP'), ('n', 'CC'), (' ', 'NNP'), ('t', 'VBP'), ('h', 'NN'), ('e', 'NN'), (' ', 'NNP'), ('o', 'VBZ'), ('t', 'JJ'), ('h', 'NN'), ('e', 'NN'), ('r', 'NN'), (' ', 'NNP'), ('h', 'VBZ'), ('a', 'DT'), ('n', 'JJ'), ('d', 'NN'), (' ', 'NNP'), ('C', 'NNP'), ('o', 'MD'), ('l', 'VB'), ('o', 'JJ'), ('r', 'NN'), ('a', 'DT'), ('d', 'NN'), ('o', 'IN'), (' ', 'NN'), ('i', 'NN'), ('s', 'VBP'), (' ', 'NN'), ('b', 'NN'), ('o', 'NN'), ('r', 'NN'), ('e', 'NN'), ('d', 'NN'), ('.', '.')]]\n"
          ],
          "name": "stdout"
        }
      ]
    },
    {
      "cell_type": "code",
      "metadata": {
        "colab": {
          "base_uri": "https://localhost:8080/"
        },
        "id": "ro3WyJnTCv5j",
        "outputId": "5a758da5-0c57-498f-96f6-47d2ccee0f76"
      },
      "source": [
        "# POS-tagger content \r\n",
        "list_pos_sentence = []\r\n",
        "\r\n",
        "for pair in sent_pos:\r\n",
        "  list_pos_sentence.append(pair[1])\r\n",
        "\r\n",
        "list_content_pos = list(set(list_pos_sentence))\r\n",
        "list_content_pos"
      ],
      "execution_count": 14,
      "outputs": [
        {
          "output_type": "execute_result",
          "data": {
            "text/plain": [
              "[('n', 'CC'), ('a', 'DT')]"
            ]
          },
          "metadata": {
            "tags": []
          },
          "execution_count": 14
        }
      ]
    },
    {
      "cell_type": "markdown",
      "metadata": {
        "id": "yhsuGKaRo3oE"
      },
      "source": [
        "<br>\r\n",
        "<hr>\r\n",
        "<br>\r\n",
        "<br>\r\n",
        "\r\n",
        "\r\n",
        "### Create own POS-Tagger \r\n",
        "\r\n"
      ]
    },
    {
      "cell_type": "code",
      "metadata": {
        "id": "9835JX_Oo8BA"
      },
      "source": [
        "# Tagging word\r\n",
        "tagged_token = nltk.tag.str2tuple('Learn/VB')"
      ],
      "execution_count": 15,
      "outputs": []
    },
    {
      "cell_type": "code",
      "metadata": {
        "colab": {
          "base_uri": "https://localhost:8080/"
        },
        "id": "y2dpQD2dpA5h",
        "outputId": "fd05cd1f-2f24-4da1-d8cf-94441f3a2b91"
      },
      "source": [
        "tagged_token"
      ],
      "execution_count": 16,
      "outputs": [
        {
          "output_type": "execute_result",
          "data": {
            "text/plain": [
              "('Learn', 'VB')"
            ]
          },
          "metadata": {
            "tags": []
          },
          "execution_count": 16
        }
      ]
    },
    {
      "cell_type": "code",
      "metadata": {
        "colab": {
          "base_uri": "https://localhost:8080/",
          "height": 35
        },
        "id": "MCSnXupIpBpI",
        "outputId": "6acc434a-f526-4ddb-8a4d-251eb2a89b55"
      },
      "source": [
        "tagged_token[0]"
      ],
      "execution_count": 17,
      "outputs": [
        {
          "output_type": "execute_result",
          "data": {
            "application/vnd.google.colaboratory.intrinsic+json": {
              "type": "string"
            },
            "text/plain": [
              "'Learn'"
            ]
          },
          "metadata": {
            "tags": []
          },
          "execution_count": 17
        }
      ]
    },
    {
      "cell_type": "code",
      "metadata": {
        "colab": {
          "base_uri": "https://localhost:8080/",
          "height": 35
        },
        "id": "mlfSMtW5pDTs",
        "outputId": "c36680c5-6835-4082-a14c-09400b86b4a0"
      },
      "source": [
        "tagged_token[1]"
      ],
      "execution_count": 18,
      "outputs": [
        {
          "output_type": "execute_result",
          "data": {
            "application/vnd.google.colaboratory.intrinsic+json": {
              "type": "string"
            },
            "text/plain": [
              "'VB'"
            ]
          },
          "metadata": {
            "tags": []
          },
          "execution_count": 18
        }
      ]
    },
    {
      "cell_type": "markdown",
      "metadata": {
        "id": "NbOgYZG2pWNQ"
      },
      "source": [
        "<br>\r\n",
        "<hr>\r\n",
        "<br>\r\n",
        "<br>\r\n",
        "\r\n",
        "\r\n",
        "### POS another corpora \r\n",
        "\r\n"
      ]
    },
    {
      "cell_type": "code",
      "metadata": {
        "colab": {
          "base_uri": "https://localhost:8080/"
        },
        "id": "K5KrMAFZpkb8",
        "outputId": "22e2842b-1518-4321-9ff0-f8b4c47c94fc"
      },
      "source": [
        "from nltk.corpus import brown\r\n",
        "nltk.download('brown')\r\n",
        "nltk.download('universal_tagset')\r\n",
        "nltk.download('treebank')"
      ],
      "execution_count": 19,
      "outputs": [
        {
          "output_type": "stream",
          "text": [
            "[nltk_data] Downloading package brown to /root/nltk_data...\n",
            "[nltk_data]   Package brown is already up-to-date!\n",
            "[nltk_data] Downloading package universal_tagset to /root/nltk_data...\n",
            "[nltk_data]   Package universal_tagset is already up-to-date!\n",
            "[nltk_data] Downloading package treebank to /root/nltk_data...\n",
            "[nltk_data]   Package treebank is already up-to-date!\n"
          ],
          "name": "stdout"
        },
        {
          "output_type": "execute_result",
          "data": {
            "text/plain": [
              "True"
            ]
          },
          "metadata": {
            "tags": []
          },
          "execution_count": 19
        }
      ]
    },
    {
      "cell_type": "code",
      "metadata": {
        "colab": {
          "base_uri": "https://localhost:8080/"
        },
        "id": "b28YnkD6pgQW",
        "outputId": "d4e5459c-8d22-4aad-e9c6-cdeb53da17f1"
      },
      "source": [
        "# select corpus \r\n",
        "brown_news_tagged = brown.tagged_words(categories='adventure', tagset='universal')\r\n",
        "\r\n",
        "# frequency of gramatical classes\r\n",
        "tag_fd = nltk.FreqDist(tag for (word, tag) in brown_news_tagged)\r\n",
        "\r\n",
        "# most common tags \r\n",
        "tag_fd.most_common()"
      ],
      "execution_count": 20,
      "outputs": [
        {
          "output_type": "execute_result",
          "data": {
            "text/plain": [
              "[('NOUN', 13354),\n",
              " ('VERB', 12274),\n",
              " ('.', 10929),\n",
              " ('DET', 8155),\n",
              " ('ADP', 7069),\n",
              " ('PRON', 5205),\n",
              " ('ADV', 3879),\n",
              " ('ADJ', 3364),\n",
              " ('PRT', 2436),\n",
              " ('CONJ', 2173),\n",
              " ('NUM', 466),\n",
              " ('X', 38)]"
            ]
          },
          "metadata": {
            "tags": []
          },
          "execution_count": 20
        }
      ]
    },
    {
      "cell_type": "markdown",
      "metadata": {
        "id": "XPGHv0iIp-t8"
      },
      "source": [
        "<br>\r\n",
        "<hr>\r\n",
        "<br>"
      ]
    }
  ]
}