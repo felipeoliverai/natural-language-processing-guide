{
  "nbformat": 4,
  "nbformat_minor": 0,
  "metadata": {
    "colab": {
      "name": "unigram_tagger.ipynb",
      "provenance": [],
      "collapsed_sections": []
    },
    "kernelspec": {
      "name": "python3",
      "display_name": "Python 3"
    }
  },
  "cells": [
    {
      "cell_type": "markdown",
      "metadata": {
        "id": "9PfIaYm2CX32"
      },
      "source": [
        "### Unigram Tagger \r\n",
        "\r\n",
        "<br>\r\n",
        "<hr>\r\n"
      ]
    },
    {
      "cell_type": "code",
      "metadata": {
        "colab": {
          "base_uri": "https://localhost:8080/"
        },
        "id": "Nt0oOdz5CU-2",
        "outputId": "c43dae6d-a1c2-4cc7-f789-04a3d4e0d79c"
      },
      "source": [
        "import nltk \r\n",
        "nltk.download('punkt')\r\n",
        "nltk.download('mac_morpho')\r\n",
        "from nltk.corpus import mac_morpho"
      ],
      "execution_count": 1,
      "outputs": [
        {
          "output_type": "stream",
          "text": [
            "[nltk_data] Downloading package punkt to /root/nltk_data...\n",
            "[nltk_data]   Package punkt is already up-to-date!\n",
            "[nltk_data] Downloading package mac_morpho to /root/nltk_data...\n",
            "[nltk_data]   Package mac_morpho is already up-to-date!\n"
          ],
          "name": "stdout"
        }
      ]
    },
    {
      "cell_type": "code",
      "metadata": {
        "colab": {
          "base_uri": "https://localhost:8080/"
        },
        "id": "RZmJw_xCCcHj",
        "outputId": "30671529-e89a-4f9e-b3a8-52e33df4cb4f"
      },
      "source": [
        "# Buscando os tokens etiquetados no corpus\r\n",
        "tagged_sents = mac_morpho.tagged_sents()\r\n",
        "print(\"\\nTokens etiquetados\")\r\n",
        "print(tagged_sents)"
      ],
      "execution_count": 2,
      "outputs": [
        {
          "output_type": "stream",
          "text": [
            "\n",
            "Tokens etiquetados\n",
            "[[('Jersei', 'N'), ('atinge', 'V'), ('média', 'N'), ('de', 'PREP'), ('Cr$', 'CUR'), ('1,4', 'NUM'), ('milhão', 'N'), ('em', 'PREP|+'), ('a', 'ART'), ('venda', 'N'), ('de', 'PREP|+'), ('a', 'ART'), ('Pinhal', 'NPROP'), ('em', 'PREP'), ('São', 'NPROP'), ('Paulo', 'NPROP')], [('Programe', 'V'), ('sua', 'PROADJ'), ('viagem', 'N'), ('a', 'PREP|+'), ('a', 'ART'), ('Exposição', 'NPROP'), ('Nacional', 'NPROP'), ('do', 'NPROP'), ('Zebu', 'NPROP'), (',', ','), ('que', 'PRO-KS-REL'), ('começa', 'V'), ('dia', 'N'), ('25', 'N|AP')], ...]\n"
          ],
          "name": "stdout"
        }
      ]
    },
    {
      "cell_type": "code",
      "metadata": {
        "id": "UgQtmUwsCjbP"
      },
      "source": [
        "# Definindo nosso texto\r\n",
        "texto = 'A manhã está ensolarada'\r\n",
        "\r\n",
        "# Tokenização\r\n",
        "tokens = nltk.word_tokenize(texto)\r\n",
        "\r\n",
        "# Aplicando Unigram Tagger\r\n",
        "unigram_tagger = nltk.tag.UnigramTagger(tagged_sents)"
      ],
      "execution_count": 3,
      "outputs": []
    },
    {
      "cell_type": "code",
      "metadata": {
        "colab": {
          "base_uri": "https://localhost:8080/"
        },
        "id": "1pgXk8J2Cpq3",
        "outputId": "70792876-6c31-4406-87f6-5332c612dc1d"
      },
      "source": [
        "# Print\r\n",
        "print(\"\\nTexto etiquetado\")\r\n",
        "print(unigram_tagger.tag(tokens))\r\n",
        "print(\"\\n\")"
      ],
      "execution_count": 4,
      "outputs": [
        {
          "output_type": "stream",
          "text": [
            "\n",
            "Texto etiquetado\n",
            "[('A', 'ART'), ('manhã', 'N'), ('está', 'V'), ('ensolarada', 'ADJ')]\n",
            "\n",
            "\n"
          ],
          "name": "stdout"
        }
      ]
    },
    {
      "cell_type": "markdown",
      "metadata": {
        "id": "0tOhOsaXDTx2"
      },
      "source": [
        "<br>\r\n",
        "<hr>"
      ]
    }
  ]
}