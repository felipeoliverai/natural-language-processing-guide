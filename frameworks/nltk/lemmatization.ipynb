{
  "nbformat": 4,
  "nbformat_minor": 0,
  "metadata": {
    "colab": {
      "name": "lemmatization.ipynb",
      "provenance": [],
      "collapsed_sections": []
    },
    "kernelspec": {
      "name": "python3",
      "display_name": "Python 3"
    }
  },
  "cells": [
    {
      "cell_type": "markdown",
      "metadata": {
        "id": "bNhHjfW03czk"
      },
      "source": [
        "### Lemmatization \r\n",
        "\r\n",
        "<br>\r\n",
        "<hr>"
      ]
    },
    {
      "cell_type": "code",
      "metadata": {
        "colab": {
          "base_uri": "https://localhost:8080/"
        },
        "id": "qEYNK5AE3Z9a",
        "outputId": "30d06855-7f18-43dc-cc04-24ccc9d64d14"
      },
      "source": [
        "import nltk \r\n",
        "nltk.download('wordnet')\r\n",
        "from nltk.stem import WordNetLemmatizer"
      ],
      "execution_count": 1,
      "outputs": [
        {
          "output_type": "stream",
          "text": [
            "[nltk_data] Downloading package wordnet to /root/nltk_data...\n",
            "[nltk_data]   Package wordnet is already up-to-date!\n"
          ],
          "name": "stdout"
        }
      ]
    },
    {
      "cell_type": "code",
      "metadata": {
        "id": "B6ESebYv3f1J"
      },
      "source": [
        "# Lematizer \r\n",
        "wordnet_lemmatizer = WordNetLemmatizer()"
      ],
      "execution_count": 2,
      "outputs": []
    },
    {
      "cell_type": "code",
      "metadata": {
        "colab": {
          "base_uri": "https://localhost:8080/",
          "height": 35
        },
        "id": "cDMDi74J3kCQ",
        "outputId": "4bd3df1a-d3b4-4da8-c31d-0fb37acc736b"
      },
      "source": [
        "# applying lemma \r\n",
        "wordnet_lemmatizer.lemmatize('cooking')"
      ],
      "execution_count": 3,
      "outputs": [
        {
          "output_type": "execute_result",
          "data": {
            "application/vnd.google.colaboratory.intrinsic+json": {
              "type": "string"
            },
            "text/plain": [
              "'cooking'"
            ]
          },
          "metadata": {
            "tags": []
          },
          "execution_count": 3
        }
      ]
    },
    {
      "cell_type": "code",
      "metadata": {
        "colab": {
          "base_uri": "https://localhost:8080/",
          "height": 35
        },
        "id": "YMyhIZHy3prT",
        "outputId": "6ee25137-8247-421e-ed1f-bd5b7b3eb0ce"
      },
      "source": [
        "wordnet_lemmatizer.lemmatize('dogs')"
      ],
      "execution_count": 4,
      "outputs": [
        {
          "output_type": "execute_result",
          "data": {
            "application/vnd.google.colaboratory.intrinsic+json": {
              "type": "string"
            },
            "text/plain": [
              "'dog'"
            ]
          },
          "metadata": {
            "tags": []
          },
          "execution_count": 4
        }
      ]
    },
    {
      "cell_type": "code",
      "metadata": {
        "colab": {
          "base_uri": "https://localhost:8080/",
          "height": 35
        },
        "id": "VKfpCvv73x1v",
        "outputId": "3c34ed95-66b0-4468-f022-3ce02a14796f"
      },
      "source": [
        "wordnet_lemmatizer.lemmatize('churches')"
      ],
      "execution_count": 5,
      "outputs": [
        {
          "output_type": "execute_result",
          "data": {
            "application/vnd.google.colaboratory.intrinsic+json": {
              "type": "string"
            },
            "text/plain": [
              "'church'"
            ]
          },
          "metadata": {
            "tags": []
          },
          "execution_count": 5
        }
      ]
    },
    {
      "cell_type": "code",
      "metadata": {
        "colab": {
          "base_uri": "https://localhost:8080/",
          "height": 35
        },
        "id": "E-k2Gfnj3yJk",
        "outputId": "dd983f5e-a6e4-495e-986c-2dcaad37cf44"
      },
      "source": [
        "wordnet_lemmatizer.lemmatize('are')"
      ],
      "execution_count": 6,
      "outputs": [
        {
          "output_type": "execute_result",
          "data": {
            "application/vnd.google.colaboratory.intrinsic+json": {
              "type": "string"
            },
            "text/plain": [
              "'are'"
            ]
          },
          "metadata": {
            "tags": []
          },
          "execution_count": 6
        }
      ]
    },
    {
      "cell_type": "code",
      "metadata": {
        "colab": {
          "base_uri": "https://localhost:8080/",
          "height": 35
        },
        "id": "01k_cuMr3yLr",
        "outputId": "22225d8f-840a-43c4-a6f1-6142e9cdd0d2"
      },
      "source": [
        "wordnet_lemmatizer.lemmatize('is')"
      ],
      "execution_count": 7,
      "outputs": [
        {
          "output_type": "execute_result",
          "data": {
            "application/vnd.google.colaboratory.intrinsic+json": {
              "type": "string"
            },
            "text/plain": [
              "'is'"
            ]
          },
          "metadata": {
            "tags": []
          },
          "execution_count": 7
        }
      ]
    },
    {
      "cell_type": "code",
      "metadata": {
        "colab": {
          "base_uri": "https://localhost:8080/",
          "height": 35
        },
        "id": "rQglYJfw37Yl",
        "outputId": "f6a40543-dc6a-42d5-fea0-b6989705a1bc"
      },
      "source": [
        "# POS-tagger equal \"Verb\"\r\n",
        "wordnet_lemmatizer.lemmatize('is', pos='v')"
      ],
      "execution_count": 8,
      "outputs": [
        {
          "output_type": "execute_result",
          "data": {
            "application/vnd.google.colaboratory.intrinsic+json": {
              "type": "string"
            },
            "text/plain": [
              "'be'"
            ]
          },
          "metadata": {
            "tags": []
          },
          "execution_count": 8
        }
      ]
    },
    {
      "cell_type": "code",
      "metadata": {
        "colab": {
          "base_uri": "https://localhost:8080/",
          "height": 35
        },
        "id": "IA3-_ndY4A71",
        "outputId": "e988586d-8cdd-473d-830a-ecefd0562ead"
      },
      "source": [
        "wordnet_lemmatizer.lemmatize('are', pos='v')"
      ],
      "execution_count": 9,
      "outputs": [
        {
          "output_type": "execute_result",
          "data": {
            "application/vnd.google.colaboratory.intrinsic+json": {
              "type": "string"
            },
            "text/plain": [
              "'be'"
            ]
          },
          "metadata": {
            "tags": []
          },
          "execution_count": 9
        }
      ]
    },
    {
      "cell_type": "code",
      "metadata": {
        "colab": {
          "base_uri": "https://localhost:8080/",
          "height": 35
        },
        "id": "y6RWmuy34Cnd",
        "outputId": "e4592fe7-bfe4-4803-cc3b-c32d2603a12e"
      },
      "source": [
        "wordnet_lemmatizer.lemmatize('cooking', pos='v')"
      ],
      "execution_count": 10,
      "outputs": [
        {
          "output_type": "execute_result",
          "data": {
            "application/vnd.google.colaboratory.intrinsic+json": {
              "type": "string"
            },
            "text/plain": [
              "'cook'"
            ]
          },
          "metadata": {
            "tags": []
          },
          "execution_count": 10
        }
      ]
    },
    {
      "cell_type": "markdown",
      "metadata": {
        "id": "LMPtw61N86T-"
      },
      "source": [
        "<br>\r\n",
        "<hr>"
      ]
    }
  ]
}