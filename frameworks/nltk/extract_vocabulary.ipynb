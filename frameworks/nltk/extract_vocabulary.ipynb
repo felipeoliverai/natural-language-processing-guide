{
  "nbformat": 4,
  "nbformat_minor": 0,
  "metadata": {
    "colab": {
      "name": "extract_vocabulary.ipynb",
      "provenance": [],
      "collapsed_sections": []
    },
    "kernelspec": {
      "name": "python3",
      "display_name": "Python 3"
    }
  },
  "cells": [
    {
      "cell_type": "markdown",
      "metadata": {
        "id": "EpqYEOijdn4b"
      },
      "source": [
        "### Extract Vocabulary \r\n",
        "\r\n",
        "<br>\r\n",
        "<hr>"
      ]
    },
    {
      "cell_type": "code",
      "metadata": {
        "id": "3vo5VwFSdlR4"
      },
      "source": [
        "# two story \r\n",
        "\r\n",
        "story1 = \"\"\"Em um reino distante, havia um rio. Este rio era o lar de muitos cisnes dourados. Os cisnes passavam a maior parte do tempo nas margens do rio. A cada seis meses, os cisnes deixavam uma pena dourada como taxa de uso do lago. Os soldados do reino recolhiam as penas e as depositavam no tesouro real.\r\n",
        "Um dia, um pássaro desabrigado viu o rio. \"A água neste rio parece tão legal e calmante. Vou fazer minha casa aqui\", pensou o pássaro.\r\n",
        "Assim que o pássaro se estabeleceu perto do rio, os cisnes dourados o notaram. Eles vieram gritando. \"Este rio pertence a nós. Nós pagamos uma pena dourada ao rei para usar este rio. Você não pode viver aqui\".\r\n",
        "\"Eu sou sem-teto, irmãos. Eu também pagarei o aluguel. Por favor me dê um abrigo\", implorou o pássaro. \"Como você pagará o aluguel? Você não tem penas douradas\", disseram os cisnes rindo. Eles adicionaram, \"Pare de sonhar e saia uma vez\". O humilde pássaro pediu muitas vezes. Mas os cisnes arrogantes expulsaram o pássaro.\r\n",
        "\"Eu vou ensinar-lhes uma lição!\" decidiu o pássaro humilhado.\r\n",
        "Ela foi ao rei e disse: \"Ó Rei! Os cisnes em seu rio são descorteses e indecentes. Eu pedi abrigo, mas eles disseram que compraram o rio com penas douradas\".\r\n",
        "O rei estava bravo com os cisnes arrogantes por ter insultado o pássaro desabrigado. Ele ordenou que seus soldados levassem os cisnes arrogantes para o tribunal. Em pouco tempo, todos os cisnes dourados foram trazidos para a corte do rei.\r\n",
        "\"Vocês acham que o tesouro real depende das suas penas douradas? Vocês não podem decidir quem mora junto ao rio. Deixem o rio imediatamente ou todos vocês serão decapitados!\" gritou o rei.\r\n",
        "Os cisnes tremiam de medo ao ouvir o rei. Eles se afastaram para nunca mais voltar. O pássaro construiu sua casa perto do rio e morou lá feliz para sempre. O pássaro deu abrigo a todas as outras aves do rio. \"\"\"\r\n",
        "\r\n",
        "story2 = \"\"\"Há muito tempo, vivia um rei. Ele era preguiçoso e gostava de todos os confortos da vida. Ele nunca executou seus deveres como Rei. \"Nosso Rei não cuida das nossas necessidades. Ele também ignora os assuntos de seu reino. \"O povo se queixou.\r\n",
        "Um dia, o rei entrou na floresta para caçar. Depois de ter vagado por algum tempo, ele ficou com sede. Para seu alívio, ele viu um lago. Enquanto ele estava bebendo água, de repente viu um cisne dourado sair do lago e pousar em uma pedra. \"Oh! Um cisne dourado. Devo capturá-lo \", pensou o Rei.\r\n",
        "Mas assim que ele segurou seu arco, o cisne desapareceu. E o rei ouviu uma voz: \"Eu sou o Cisne dourado. Se você quiser me capturar, você deve ir ao céu \".\r\n",
        "Surpreendido, o rei disse: \"Por favor, mostre-me o caminho para o céu.\" \"Faça boas ações, sirva seu povo e o mensageiro do céu viria buscá-lo para o céu\", respondeu a voz.\r\n",
        "O rei egoísta, ansioso para capturar o Cisne, tentou fazer algumas boas ações em seu Reino. \"Agora, suponho que um mensageiro venha me levar para o céu\", pensou ele. Mas, não veio nenhum mensageiro.\r\n",
        "O rei então se disfarçou e saiu para a rua. Lá ele tentou ajudar um velho. Mas o velho ficou bravo e disse: \"Você não precisa tentar ajudar. Eu estou neste estado miserável por causa do rei egoísta. Ele não fez nada por seu povo \".\r\n",
        "De repente, o rei ouviu a voz do cisne dourado: \"Faça boas ações e você virá para o céu\". Ele percebeu que, fazendo atos egoístas, não irá para o céu.\r\n",
        "Ele percebeu que seu povo precisava dele e cumprir seus deveres era o único caminho para o céu. Depois desse dia ele se tornou um rei responsável.\r\n",
        "\"\"\""
      ],
      "execution_count": 1,
      "outputs": []
    },
    {
      "cell_type": "code",
      "metadata": {
        "id": "zUafY3aGdxKL"
      },
      "source": [
        "# cleaning text (removing punctuation, lowercase)\r\n",
        "story1 = story1.replace(\",\", \"\").replace(\"\\n\", \"\").replace('.', '').replace('\"', '').replace(\"!\",\"\").replace(\"?\",\"\").casefold()\r\n",
        "story2 = story2.replace(\",\", \"\").replace(\"\\n\", \"\").replace('.', '').replace('\"', '').replace(\"!\",\"\").replace(\"?\",\"\").casefold()"
      ],
      "execution_count": 2,
      "outputs": []
    },
    {
      "cell_type": "code",
      "metadata": {
        "colab": {
          "base_uri": "https://localhost:8080/"
        },
        "id": "qZQlpR2Fd7Aa",
        "outputId": "f33ba040-2baf-473e-9a3a-37d3bab4e48a"
      },
      "source": [
        "# split text to words \r\n",
        "story1_words = story1.split(\" \")\r\n",
        "print(\"\\n\")\r\n",
        "print(\"Words of first history :\", story1_words)\r\n",
        "print(\"\\n\")\r\n",
        "story2_words = story2.split(\" \")\r\n",
        "print(\"Words of second history :\", story2_words)\r\n",
        "print(\"\\n\")"
      ],
      "execution_count": 3,
      "outputs": [
        {
          "output_type": "stream",
          "text": [
            "\n",
            "\n",
            "Words of first history : ['em', 'um', 'reino', 'distante', 'havia', 'um', 'rio', 'este', 'rio', 'era', 'o', 'lar', 'de', 'muitos', 'cisnes', 'dourados', 'os', 'cisnes', 'passavam', 'a', 'maior', 'parte', 'do', 'tempo', 'nas', 'margens', 'do', 'rio', 'a', 'cada', 'seis', 'meses', 'os', 'cisnes', 'deixavam', 'uma', 'pena', 'dourada', 'como', 'taxa', 'de', 'uso', 'do', 'lago', 'os', 'soldados', 'do', 'reino', 'recolhiam', 'as', 'penas', 'e', 'as', 'depositavam', 'no', 'tesouro', 'realum', 'dia', 'um', 'pássaro', 'desabrigado', 'viu', 'o', 'rio', 'a', 'água', 'neste', 'rio', 'parece', 'tão', 'legal', 'e', 'calmante', 'vou', 'fazer', 'minha', 'casa', 'aqui', 'pensou', 'o', 'pássaroassim', 'que', 'o', 'pássaro', 'se', 'estabeleceu', 'perto', 'do', 'rio', 'os', 'cisnes', 'dourados', 'o', 'notaram', 'eles', 'vieram', 'gritando', 'este', 'rio', 'pertence', 'a', 'nós', 'nós', 'pagamos', 'uma', 'pena', 'dourada', 'ao', 'rei', 'para', 'usar', 'este', 'rio', 'você', 'não', 'pode', 'viver', 'aquieu', 'sou', 'sem-teto', 'irmãos', 'eu', 'também', 'pagarei', 'o', 'aluguel', 'por', 'favor', 'me', 'dê', 'um', 'abrigo', 'implorou', 'o', 'pássaro', 'como', 'você', 'pagará', 'o', 'aluguel', 'você', 'não', 'tem', 'penas', 'douradas', 'disseram', 'os', 'cisnes', 'rindo', 'eles', 'adicionaram', 'pare', 'de', 'sonhar', 'e', 'saia', 'uma', 'vez', 'o', 'humilde', 'pássaro', 'pediu', 'muitas', 'vezes', 'mas', 'os', 'cisnes', 'arrogantes', 'expulsaram', 'o', 'pássaroeu', 'vou', 'ensinar-lhes', 'uma', 'lição', 'decidiu', 'o', 'pássaro', 'humilhadoela', 'foi', 'ao', 'rei', 'e', 'disse:', 'ó', 'rei', 'os', 'cisnes', 'em', 'seu', 'rio', 'são', 'descorteses', 'e', 'indecentes', 'eu', 'pedi', 'abrigo', 'mas', 'eles', 'disseram', 'que', 'compraram', 'o', 'rio', 'com', 'penas', 'douradaso', 'rei', 'estava', 'bravo', 'com', 'os', 'cisnes', 'arrogantes', 'por', 'ter', 'insultado', 'o', 'pássaro', 'desabrigado', 'ele', 'ordenou', 'que', 'seus', 'soldados', 'levassem', 'os', 'cisnes', 'arrogantes', 'para', 'o', 'tribunal', 'em', 'pouco', 'tempo', 'todos', 'os', 'cisnes', 'dourados', 'foram', 'trazidos', 'para', 'a', 'corte', 'do', 'reivocês', 'acham', 'que', 'o', 'tesouro', 'real', 'depende', 'das', 'suas', 'penas', 'douradas', 'vocês', 'não', 'podem', 'decidir', 'quem', 'mora', 'junto', 'ao', 'rio', 'deixem', 'o', 'rio', 'imediatamente', 'ou', 'todos', 'vocês', 'serão', 'decapitados', 'gritou', 'o', 'reios', 'cisnes', 'tremiam', 'de', 'medo', 'ao', 'ouvir', 'o', 'rei', 'eles', 'se', 'afastaram', 'para', 'nunca', 'mais', 'voltar', 'o', 'pássaro', 'construiu', 'sua', 'casa', 'perto', 'do', 'rio', 'e', 'morou', 'lá', 'feliz', 'para', 'sempre', 'o', 'pássaro', 'deu', 'abrigo', 'a', 'todas', 'as', 'outras', 'aves', 'do', 'rio', '']\n",
            "\n",
            "\n",
            "Words of second history : ['há', 'muito', 'tempo', 'vivia', 'um', 'rei', 'ele', 'era', 'preguiçoso', 'e', 'gostava', 'de', 'todos', 'os', 'confortos', 'da', 'vida', 'ele', 'nunca', 'executou', 'seus', 'deveres', 'como', 'rei', 'nosso', 'rei', 'não', 'cuida', 'das', 'nossas', 'necessidades', 'ele', 'também', 'ignora', 'os', 'assuntos', 'de', 'seu', 'reino', 'o', 'povo', 'se', 'queixouum', 'dia', 'o', 'rei', 'entrou', 'na', 'floresta', 'para', 'caçar', 'depois', 'de', 'ter', 'vagado', 'por', 'algum', 'tempo', 'ele', 'ficou', 'com', 'sede', 'para', 'seu', 'alívio', 'ele', 'viu', 'um', 'lago', 'enquanto', 'ele', 'estava', 'bebendo', 'água', 'de', 'repente', 'viu', 'um', 'cisne', 'dourado', 'sair', 'do', 'lago', 'e', 'pousar', 'em', 'uma', 'pedra', 'oh', 'um', 'cisne', 'dourado', 'devo', 'capturá-lo', '', 'pensou', 'o', 'reimas', 'assim', 'que', 'ele', 'segurou', 'seu', 'arco', 'o', 'cisne', 'desapareceu', 'e', 'o', 'rei', 'ouviu', 'uma', 'voz:', 'eu', 'sou', 'o', 'cisne', 'dourado', 'se', 'você', 'quiser', 'me', 'capturar', 'você', 'deve', 'ir', 'ao', 'céu', 'surpreendido', 'o', 'rei', 'disse:', 'por', 'favor', 'mostre-me', 'o', 'caminho', 'para', 'o', 'céu', 'faça', 'boas', 'ações', 'sirva', 'seu', 'povo', 'e', 'o', 'mensageiro', 'do', 'céu', 'viria', 'buscá-lo', 'para', 'o', 'céu', 'respondeu', 'a', 'vozo', 'rei', 'egoísta', 'ansioso', 'para', 'capturar', 'o', 'cisne', 'tentou', 'fazer', 'algumas', 'boas', 'ações', 'em', 'seu', 'reino', 'agora', 'suponho', 'que', 'um', 'mensageiro', 'venha', 'me', 'levar', 'para', 'o', 'céu', 'pensou', 'ele', 'mas', 'não', 'veio', 'nenhum', 'mensageiroo', 'rei', 'então', 'se', 'disfarçou', 'e', 'saiu', 'para', 'a', 'rua', 'lá', 'ele', 'tentou', 'ajudar', 'um', 'velho', 'mas', 'o', 'velho', 'ficou', 'bravo', 'e', 'disse:', 'você', 'não', 'precisa', 'tentar', 'ajudar', 'eu', 'estou', 'neste', 'estado', 'miserável', 'por', 'causa', 'do', 'rei', 'egoísta', 'ele', 'não', 'fez', 'nada', 'por', 'seu', 'povo', 'de', 'repente', 'o', 'rei', 'ouviu', 'a', 'voz', 'do', 'cisne', 'dourado:', 'faça', 'boas', 'ações', 'e', 'você', 'virá', 'para', 'o', 'céu', 'ele', 'percebeu', 'que', 'fazendo', 'atos', 'egoístas', 'não', 'irá', 'para', 'o', 'céuele', 'percebeu', 'que', 'seu', 'povo', 'precisava', 'dele', 'e', 'cumprir', 'seus', 'deveres', 'era', 'o', 'único', 'caminho', 'para', 'o', 'céu', 'depois', 'desse', 'dia', 'ele', 'se', 'tornou', 'um', 'rei', 'responsável']\n",
            "\n",
            "\n"
          ],
          "name": "stdout"
        }
      ]
    },
    {
      "cell_type": "code",
      "metadata": {
        "colab": {
          "base_uri": "https://localhost:8080/"
        },
        "id": "524YLTZxeD2X",
        "outputId": "6731615b-6cb6-4947-b742-c8f9c8a33729"
      },
      "source": [
        "# create vocabulary (without repetition)\r\n",
        "story1_vocab = set(story1_words)\r\n",
        "print(\"Vocab of first history :\", story1_vocab)\r\n",
        "print(\"\\n\")\r\n",
        "story2_vocab = set(story2_words)\r\n",
        "print(\"Vocab of second history: \", story2_vocab)\r\n",
        "print(\"\\n\")"
      ],
      "execution_count": 4,
      "outputs": [
        {
          "output_type": "stream",
          "text": [
            "Vocab of first history : {'', 'perto', 'decidir', 'parece', 'pássaro', 'uma', 'voltar', 'decapitados', 'pouco', 'dia', 'arrogantes', 'ter', 'eles', 'dourados', 'recolhiam', 'água', 'vou', 'como', 'aqui', 'usar', 'morou', 'calmante', 'também', 'tremiam', 'são', 'lá', 'seu', 'era', 'vieram', 'decidiu', 'as', 'viu', 'ou', 'gritou', 'de', 'mora', 'desabrigado', 'nós', 'em', 'passavam', 'rindo', 'indecentes', 'cada', 'você', 'lição', 'douradaso', 'implorou', 'imediatamente', 'margens', 'mas', 'havia', 'levassem', 'do', 'mais', 'corte', 'se', 'cisnes', 'disse:', 'me', 'com', 'bravo', 'junto', 'penas', 'vocês', 'aquieu', 'os', 'ouvir', 'o', 'muitas', 'tem', 'reivocês', 'minha', 'lago', 'lar', 'e', 'douradas', 'pássaroassim', 'neste', 'favor', 'casa', 'adicionaram', 'outras', 'soldados', 'rei', 'foi', 'para', 'real', 'serão', 'seus', 'disseram', 'compraram', 'maior', 'meses', 'aluguel', 'descorteses', 'aves', 'tesouro', 'este', 'acham', 'deixavam', 'das', 'não', 'um', 'pássaroeu', 'pagamos', 'reios', 'nunca', 'podem', 'pare', 'taxa', 'sou', 'pertence', 'eu', 'pagarei', 'viver', 'a', 'gritando', 'saia', 'tão', 'parte', 'pediu', 'expulsaram', 'ó', 'dourada', 'deu', 'vezes', 'abrigo', 'irmãos', 'tribunal', 'ao', 'pagará', 'pedi', 'seis', 'depende', 'rio', 'sua', 'uso', 'todos', 'realum', 'distante', 'ele', 'muitos', 'insultado', 'deixem', 'reino', 'pode', 'humilhadoela', 'sempre', 'sonhar', 'humilde', 'vez', 'construiu', 'ordenou', 'pensou', 'quem', 'todas', 'tempo', 'feliz', 'por', 'fazer', 'notaram', 'sem-teto', 'afastaram', 'que', 'pena', 'estabeleceu', 'foram', 'trazidos', 'depositavam', 'suas', 'nas', 'ensinar-lhes', 'legal', 'medo', 'no', 'estava', 'dê'}\n",
            "\n",
            "\n",
            "Vocab of second history:  {'', 'sede', 'egoísta', 'uma', 'ajudar', 'voz:', 'agora', 'estou', 'fazendo', 'nossas', 'faça', 'cumprir', 'velho', 'depois', 'único', 'dia', 'ter', 'água', 'como', 'desse', 'também', 'voz', 'preguiçoso', 'nosso', 'lá', 'seu', 'era', 'responsável', 'nenhum', 'viu', 'então', 'oh', 'veio', 'bebendo', 'de', 'ir', 'em', 'tornou', 'queixouum', 'capturá-lo', 'confortos', 'você', 'entrou', 'venha', 'gostava', 'cisne', 'buscá-lo', 'mas', 'céuele', 'do', 'atos', 'se', 'na', 'deve', 'precisa', 'disse:', 'vozo', 'me', 'com', 'deveres', 'miserável', 'suponho', 'bravo', 'algum', 'os', 'segurou', 'o', 'precisava', 'algumas', 'ignora', 'cuida', 'e', 'lago', 'muito', 'pousar', 'neste', 'ansioso', 'favor', 'rei', 'para', 'seus', 'desapareceu', 'mensageiroo', 'quiser', 'sair', 'levar', 'há', 'enquanto', 'da', 'capturar', 'das', 'não', 'um', 'céu', 'tentou', 'arco', 'boas', 'devo', 'nunca', 'surpreendido', 'povo', 'irá', 'fez', 'sou', 'tentar', 'eu', 'a', 'assuntos', 'rua', 'caminho', 'dourado', 'disfarçou', 'ao', 'virá', 'ficou', 'repente', 'todos', 'dourado:', 'ele', 'viria', 'percebeu', 'vagado', 'dele', 'reino', 'nada', 'vida', 'ações', 'pensou', 'tempo', 'por', 'fazer', 'egoístas', 'mensageiro', 'causa', 'floresta', 'saiu', 'ouviu', 'caçar', 'que', 'mostre-me', 'reimas', 'executou', 'estado', 'assim', 'alívio', 'respondeu', 'necessidades', 'pedra', 'estava', 'sirva', 'vivia'}\n",
            "\n",
            "\n"
          ],
          "name": "stdout"
        }
      ]
    },
    {
      "cell_type": "code",
      "metadata": {
        "colab": {
          "base_uri": "https://localhost:8080/"
        },
        "id": "Edm8fZjfent9",
        "outputId": "687d87cf-45d2-4370-9b12-4de987e55777"
      },
      "source": [
        "# common vocabulary \r\n",
        "common_vocab = story1_vocab & story2_vocab\r\n",
        "print(\"Common vocabulary :\", common_vocab)\r\n",
        "print(\"\\n\")"
      ],
      "execution_count": 5,
      "outputs": [
        {
          "output_type": "stream",
          "text": [
            "Common vocabulary : {'', 'você', 'uma', 'ele', 'mas', 'reino', 'das', 'do', 'não', 'um', 'se', 'dia', 'ter', 'disse:', 'me', 'com', 'pensou', 'água', 'nunca', 'tempo', 'como', 'bravo', 'por', 'fazer', 'os', 'também', 'sou', 'eu', 'lá', 'o', 'que', 'a', 'seu', 'era', 'e', 'viu', 'lago', 'neste', 'favor', 'de', 'ao', 'rei', 'em', 'para', 'estava', 'seus', 'todos'}\n",
            "\n",
            "\n"
          ],
          "name": "stdout"
        }
      ]
    },
    {
      "cell_type": "markdown",
      "metadata": {
        "id": "mfgOc0NofNA9"
      },
      "source": [
        "<br>\r\n",
        "<hr>"
      ]
    }
  ]
}