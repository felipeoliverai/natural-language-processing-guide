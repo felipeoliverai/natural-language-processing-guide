{
  "nbformat": 4,
  "nbformat_minor": 0,
  "metadata": {
    "colab": {
      "name": "regex_03.ipynb",
      "provenance": [],
      "collapsed_sections": []
    },
    "kernelspec": {
      "name": "python3",
      "display_name": "Python 3"
    }
  },
  "cells": [
    {
      "cell_type": "markdown",
      "metadata": {
        "id": "cMmdrV4BTuqa"
      },
      "source": [
        "### Regex-03 \r\n",
        "\r\n",
        "\r\n",
        "<br>"
      ]
    },
    {
      "cell_type": "code",
      "metadata": {
        "id": "dQ6JhgqYTqiW"
      },
      "source": [
        "import re "
      ],
      "execution_count": 1,
      "outputs": []
    },
    {
      "cell_type": "code",
      "metadata": {
        "id": "gPCpdIXvT5cJ"
      },
      "source": [
        "text = \"Felipe está quase lá\"\r\n",
        "\r\n",
        "\r\n",
        "def pattern_text(text, pattern):\r\n",
        "  if re.search(pattern, text):\r\n",
        "    print(\"Found pattern\")\r\n",
        "  else:\r\n",
        "    print(\"Not found pattern\")"
      ],
      "execution_count": 2,
      "outputs": []
    },
    {
      "cell_type": "code",
      "metadata": {
        "colab": {
          "base_uri": "https://localhost:8080/"
        },
        "id": "VeI5Rk0kXd5Q",
        "outputId": "71ea4caa-47b5-4055-b6f5-fadeb774c0de"
      },
      "source": [
        "pattern_text(text=text, pattern=\"Felipe\")"
      ],
      "execution_count": 3,
      "outputs": [
        {
          "output_type": "stream",
          "text": [
            "Found pattern\n"
          ],
          "name": "stdout"
        }
      ]
    },
    {
      "cell_type": "code",
      "metadata": {
        "colab": {
          "base_uri": "https://localhost:8080/"
        },
        "id": "g87f8cc_Xgqi",
        "outputId": "e9b6c125-a4fd-4d25-ab71-46e42346eae0"
      },
      "source": [
        "pattern_text(text, pattern=\"wood\")"
      ],
      "execution_count": 4,
      "outputs": [
        {
          "output_type": "stream",
          "text": [
            "Not found pattern\n"
          ],
          "name": "stdout"
        }
      ]
    },
    {
      "cell_type": "markdown",
      "metadata": {
        "id": "EiTfTxlLYlBF"
      },
      "source": [
        "<br>\r\n",
        "<hr>"
      ]
    }
  ]
}