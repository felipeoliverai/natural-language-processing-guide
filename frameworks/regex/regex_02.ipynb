{
  "nbformat": 4,
  "nbformat_minor": 0,
  "metadata": {
    "colab": {
      "name": "regex_02.ipynb",
      "provenance": [],
      "collapsed_sections": [],
      "toc_visible": true
    },
    "kernelspec": {
      "name": "python3",
      "display_name": "Python 3"
    }
  },
  "cells": [
    {
      "cell_type": "markdown",
      "metadata": {
        "id": "DyxXHN7wcYKl"
      },
      "source": [
        "### Regex-02 \r\n",
        "\r\n",
        "<br>"
      ]
    },
    {
      "cell_type": "code",
      "metadata": {
        "id": "hOPRcMC4cRHZ"
      },
      "source": [
        "import re "
      ],
      "execution_count": 1,
      "outputs": []
    },
    {
      "cell_type": "code",
      "metadata": {
        "id": "fyIpSFX1ccur"
      },
      "source": [
        "def text_match(text, patterns):\r\n",
        "        if re.search(patterns,  text):\r\n",
        "              return 'Encontrei correspondência!'\r\n",
        "        else:\r\n",
        "              return 'Não Encontrei correspondência!'"
      ],
      "execution_count": 2,
      "outputs": []
    },
    {
      "cell_type": "code",
      "metadata": {
        "colab": {
          "base_uri": "https://localhost:8080/"
        },
        "id": "vuGnQiXNdla2",
        "outputId": "40f96937-4b04-438d-bb64-7112895a8bb3"
      },
      "source": [
        "# padrão \"â.*c$\"\"\r\n",
        "# Este padrão ^a.*c$ significa: padrão que comece com a letra, seguido de zero ou mais quaisquer carateres e terminando com a letra c\r\n",
        "\r\n",
        "print(\"Padrão para testar início e fim de uma string\")\r\n",
        "print(text_match(\"abjjuuggevevzwebc\", \"^a.*c$\"))"
      ],
      "execution_count": 3,
      "outputs": [
        {
          "output_type": "stream",
          "text": [
            "Padrão para testar início e fim de uma string\n",
            "Encontrei correspondência!\n"
          ],
          "name": "stdout"
        }
      ]
    },
    {
      "cell_type": "code",
      "metadata": {
        "colab": {
          "base_uri": "https://localhost:8080/",
          "height": 35
        },
        "id": "P5GRU5hrSBjp",
        "outputId": "9cd2e651-ca1c-4fef-9a68-13e51f641a7b"
      },
      "source": [
        "text_match(\"regex\", \"^r.*x$\")"
      ],
      "execution_count": 4,
      "outputs": [
        {
          "output_type": "execute_result",
          "data": {
            "application/vnd.google.colaboratory.intrinsic+json": {
              "type": "string"
            },
            "text/plain": [
              "'Encontrei correspondência!'"
            ]
          },
          "metadata": {
            "tags": []
          },
          "execution_count": 4
        }
      ]
    },
    {
      "cell_type": "code",
      "metadata": {
        "colab": {
          "base_uri": "https://localhost:8080/"
        },
        "id": "nTB-v0T1dsrU",
        "outputId": "61f61545-2e98-4842-c999-dfd5700e01d1"
      },
      "source": [
        "# padrão \"^\\w+\"\r\n",
        "# Este padrão ^\\w+ significa: padrão que comece (^) com qualquer caractere alfa-numérico (\\w) e uma ou mais ocorrências (+)\r\n",
        "print(text_match(\"José come torta, Maria come ervilhas!\", \"^\\w+\"))"
      ],
      "execution_count": 5,
      "outputs": [
        {
          "output_type": "stream",
          "text": [
            "Encontrei correspondência!\n"
          ],
          "name": "stdout"
        }
      ]
    },
    {
      "cell_type": "markdown",
      "metadata": {
        "id": "q25vv7O9TRMy"
      },
      "source": [
        "<br>\r\n",
        "<hr>"
      ]
    }
  ]
}