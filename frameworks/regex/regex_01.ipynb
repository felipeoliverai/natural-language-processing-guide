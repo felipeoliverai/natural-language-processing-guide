{
  "nbformat": 4,
  "nbformat_minor": 0,
  "metadata": {
    "colab": {
      "name": "regex_01.ipynb",
      "provenance": [],
      "collapsed_sections": []
    },
    "kernelspec": {
      "name": "python3",
      "display_name": "Python 3"
    }
  },
  "cells": [
    {
      "cell_type": "markdown",
      "metadata": {
        "id": "_ee8mghUhMQV"
      },
      "source": [
        "### Regex-01\r\n",
        "\r\n",
        "\r\n",
        "<br>"
      ]
    },
    {
      "cell_type": "code",
      "metadata": {
        "id": "hb0apFkmhI7C"
      },
      "source": [
        "import re"
      ],
      "execution_count": 1,
      "outputs": []
    },
    {
      "cell_type": "code",
      "metadata": {
        "id": "YNS3CYGCiiAN"
      },
      "source": [
        "# \"?\" zero or one \r\n",
        "# \"*\" zero or more \r\n",
        "# \"+\" um or more "
      ],
      "execution_count": 2,
      "outputs": []
    },
    {
      "cell_type": "code",
      "metadata": {
        "id": "CTVU7B6GhhMr"
      },
      "source": [
        "# match patterns \r\n",
        "def text_match(text, patterns):\r\n",
        "        if re.search(patterns,  text):\r\n",
        "                return 'Found correspondecy!'\r\n",
        "        else:\r\n",
        "                return('Not found correspondecy!')"
      ],
      "execution_count": 3,
      "outputs": []
    },
    {
      "cell_type": "code",
      "metadata": {
        "colab": {
          "base_uri": "https://localhost:8080/"
        },
        "id": "RkrPlv-viILu",
        "outputId": "e8acb9d7-7c52-4e79-926c-24b52257fa67"
      },
      "source": [
        "print(\"\\n\")\r\n",
        "print(\"Joker Character ?:\")\r\n",
        "print(text_match(\"ac\", \"ab?\"))\r\n",
        "print(text_match(\"abc\", \"ab?\"))\r\n",
        "print(text_match(\"abbc\", \"ab?\"))\r\n",
        "print(text_match(\"a\", \"ab?\"))\r\n",
        "print(text_match(\"b\", \"ab?\"))\r\n",
        "print(\"\\n\")"
      ],
      "execution_count": 4,
      "outputs": [
        {
          "output_type": "stream",
          "text": [
            "\n",
            "\n",
            "Joker Character ?:\n",
            "Found correspondecy!\n",
            "Found correspondecy!\n",
            "Found correspondecy!\n",
            "Found correspondecy!\n",
            "Not found correspondecy!\n",
            "\n",
            "\n"
          ],
          "name": "stdout"
        }
      ]
    },
    {
      "cell_type": "code",
      "metadata": {
        "colab": {
          "base_uri": "https://localhost:8080/"
        },
        "id": "pTFHet0mi8mF",
        "outputId": "7b19a64b-413b-4d58-c5bd-7228414afd56"
      },
      "source": [
        "print(\"Joker Character *:\")\r\n",
        "print(text_match(\"ac\", \"ab*\"))\r\n",
        "print(text_match(\"abc\", \"ab*\"))\r\n",
        "print(text_match(\"abbc\", \"ab*\"))\r\n",
        "print(text_match(\"a\", \"ab*\"))\r\n",
        "print(text_match(\"b\", \"ab*\"))\r\n",
        "print(\"\\n\")"
      ],
      "execution_count": 5,
      "outputs": [
        {
          "output_type": "stream",
          "text": [
            "Joker Character *:\n",
            "Found correspondecy!\n",
            "Found correspondecy!\n",
            "Found correspondecy!\n",
            "Found correspondecy!\n",
            "Not found correspondecy!\n",
            "\n",
            "\n"
          ],
          "name": "stdout"
        }
      ]
    },
    {
      "cell_type": "code",
      "metadata": {
        "colab": {
          "base_uri": "https://localhost:8080/"
        },
        "id": "44eoct4rjBxN",
        "outputId": "f82a14a9-56df-4ec2-e20d-c4f93cb124b3"
      },
      "source": [
        "print(\"Joker Character +:\")\r\n",
        "print(text_match(\"ac\", \"ab+\"))\r\n",
        "print(text_match(\"abc\", \"ab+\"))\r\n",
        "print(text_match(\"abbc\", \"ab+\"))\r\n",
        "print(text_match(\"a\", \"ab+\"))\r\n",
        "print(text_match(\"b\", \"ab+\"))\r\n",
        "print(\"\\n\")"
      ],
      "execution_count": 6,
      "outputs": [
        {
          "output_type": "stream",
          "text": [
            "Joker Character +:\n",
            "Not found correspondecy!\n",
            "Found correspondecy!\n",
            "Found correspondecy!\n",
            "Not found correspondecy!\n",
            "Not found correspondecy!\n",
            "\n",
            "\n"
          ],
          "name": "stdout"
        }
      ]
    },
    {
      "cell_type": "code",
      "metadata": {
        "colab": {
          "base_uri": "https://localhost:8080/"
        },
        "id": "NTsGpdl1jeXu",
        "outputId": "04551770-18c5-4ade-e128-8136538783bc"
      },
      "source": [
        "print(\"Another examples:\")\r\n",
        "\r\n",
        "# One letter \"a\" following by two letters \"b\"\r\n",
        "print(text_match(\"abbc\", \"ab{2}\"))\r\n",
        "print(text_match(\"abc\", \"ab{2}\"))\r\n",
        "print(\"\\n\")"
      ],
      "execution_count": 7,
      "outputs": [
        {
          "output_type": "stream",
          "text": [
            "Another examples:\n",
            "Found correspondecy!\n",
            "Not found correspondecy!\n",
            "\n",
            "\n"
          ],
          "name": "stdout"
        }
      ]
    },
    {
      "cell_type": "markdown",
      "metadata": {
        "id": "nYbOaScukV1u"
      },
      "source": [
        "<br>\r\n",
        "<hr>"
      ]
    }
  ]
}