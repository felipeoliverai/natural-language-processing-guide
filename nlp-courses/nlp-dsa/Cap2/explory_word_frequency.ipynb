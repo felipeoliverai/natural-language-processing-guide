{
  "nbformat": 4,
  "nbformat_minor": 0,
  "metadata": {
    "colab": {
      "name": "explory_word_frequency.ipynb",
      "provenance": [],
      "collapsed_sections": []
    },
    "kernelspec": {
      "name": "python3",
      "display_name": "Python 3"
    }
  },
  "cells": [
    {
      "cell_type": "markdown",
      "metadata": {
        "id": "CbbAZp1OitRO"
      },
      "source": [
        "### Word Frequency \r\n",
        "\r\n",
        "\r\n",
        "\r\n",
        "<br>\r\n",
        "<hr>"
      ]
    },
    {
      "cell_type": "code",
      "metadata": {
        "id": "mBRVCTCalvqA",
        "colab": {
          "base_uri": "https://localhost:8080/"
        },
        "outputId": "c2217f72-3bcb-45af-f568-2b700b1e996b"
      },
      "source": [
        "import nltk\r\n",
        "nltk.download('webtext')\r\n",
        "\r\n",
        "from nltk.corpus import webtext\r\n",
        "from nltk.probability import FreqDist"
      ],
      "execution_count": 1,
      "outputs": [
        {
          "output_type": "stream",
          "text": [
            "[nltk_data] Downloading package webtext to /root/nltk_data...\n",
            "[nltk_data]   Package webtext is already up-to-date!\n"
          ],
          "name": "stdout"
        }
      ]
    },
    {
      "cell_type": "code",
      "metadata": {
        "colab": {
          "base_uri": "https://localhost:8080/"
        },
        "id": "Yv4Gsch9iu42",
        "outputId": "d3e9d8e7-a5f3-4957-93a1-92107ea65191"
      },
      "source": [
        "# File IDs \r\n",
        "print('\\n')\r\n",
        "print(webtext.fileids())"
      ],
      "execution_count": 2,
      "outputs": [
        {
          "output_type": "stream",
          "text": [
            "\n",
            "\n",
            "['firefox.txt', 'grail.txt', 'overheard.txt', 'pirates.txt', 'singles.txt', 'wine.txt']\n"
          ],
          "name": "stdout"
        }
      ]
    },
    {
      "cell_type": "code",
      "metadata": {
        "id": "scxyqU8pi98y"
      },
      "source": [
        "# Frequency distribution in a unique file \r\n",
        "\r\n",
        "fileid = 'singles.txt'\r\n",
        "wbt_words = webtext.words(fileid)\r\n",
        "fdist = nltk.FreqDist(wbt_words)"
      ],
      "execution_count": 3,
      "outputs": []
    },
    {
      "cell_type": "code",
      "metadata": {
        "colab": {
          "base_uri": "https://localhost:8080/"
        },
        "id": "2nZ8zf4ejg4W",
        "outputId": "109d0c16-5eba-4238-9d53-fe05a0de3b94"
      },
      "source": [
        "# Word frequency \r\n",
        "\r\n",
        "print('\\nCount number maximum of occurrence of token \"',fdist.max(),'\" : ', fdist[fdist.max()])\r\n",
        "print('\\nTotal number of distinct tokens : ', fdist.N())\r\n",
        "print('\\nTop 10 tokens most frequenly in the corpus')\r\n",
        "print(fdist.most_common(10))\r\n",
        "print(\"\\n\")"
      ],
      "execution_count": 4,
      "outputs": [
        {
          "output_type": "stream",
          "text": [
            "\n",
            "Count number maximum of occurrence of token \" , \" :  539\n",
            "\n",
            "Total number of distinct tokens :  4867\n",
            "\n",
            "Top 10 tokens most frequenly in the corpus\n",
            "[(',', 539), ('.', 353), ('/', 110), ('for', 99), ('and', 74), ('to', 74), ('lady', 68), ('-', 66), ('seeks', 60), ('a', 52)]\n",
            "\n",
            "\n"
          ],
          "name": "stdout"
        }
      ]
    }
  ]
}