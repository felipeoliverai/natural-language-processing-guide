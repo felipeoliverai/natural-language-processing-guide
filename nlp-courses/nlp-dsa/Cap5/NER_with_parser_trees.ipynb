{
  "nbformat": 4,
  "nbformat_minor": 0,
  "metadata": {
    "colab": {
      "name": "NER_with_parser_trees.ipynb",
      "provenance": [],
      "collapsed_sections": []
    },
    "kernelspec": {
      "name": "python3",
      "display_name": "Python 3"
    },
    "language_info": {
      "name": "python"
    }
  },
  "cells": [
    {
      "cell_type": "code",
      "metadata": {
        "colab": {
          "base_uri": "https://localhost:8080/"
        },
        "id": "iRxSzGmnUdvF",
        "outputId": "b213c190-eaf8-47fe-94c0-969fb135a9b9"
      },
      "source": [
        "import nltk\n",
        "import time\n",
        "nltk.download('punkt')\n",
        "nltk.download('averaged_perceptron_tagger')\n",
        "nltk.download('maxent_ne_chunker')\n",
        "nltk.download('words')"
      ],
      "execution_count": 1,
      "outputs": [
        {
          "output_type": "stream",
          "text": [
            "[nltk_data] Downloading package punkt to /root/nltk_data...\n",
            "[nltk_data]   Package punkt is already up-to-date!\n",
            "[nltk_data] Downloading package averaged_perceptron_tagger to\n",
            "[nltk_data]     /root/nltk_data...\n",
            "[nltk_data]   Package averaged_perceptron_tagger is already up-to-\n",
            "[nltk_data]       date!\n",
            "[nltk_data] Downloading package maxent_ne_chunker to\n",
            "[nltk_data]     /root/nltk_data...\n",
            "[nltk_data]   Package maxent_ne_chunker is already up-to-date!\n",
            "[nltk_data] Downloading package words to /root/nltk_data...\n",
            "[nltk_data]   Package words is already up-to-date!\n"
          ],
          "name": "stdout"
        },
        {
          "output_type": "execute_result",
          "data": {
            "text/plain": [
              "True"
            ]
          },
          "metadata": {
            "tags": []
          },
          "execution_count": 1
        }
      ]
    },
    {
      "cell_type": "code",
      "metadata": {
        "id": "IgrtjBRfUlku"
      },
      "source": [
        "contentArray =['A Sadia vem aumentando sua participação no mercado de forma significativa.',\n",
        "               'O Brasil é o produtor de café número 1 do mundo e fornece cerca de 1/3 do café do mundo inteiro!',\n",
        "               'A Starbucks ainda vê forte crescimento de vendas nos Estados Unidos, e pretende continuar crescendo.',]"
      ],
      "execution_count": 2,
      "outputs": []
    },
    {
      "cell_type": "code",
      "metadata": {
        "id": "g4Lz34SeUnHW"
      },
      "source": [
        "# Função para processar cada frase da lista de sentenças\n",
        "def processLanguage():\n",
        "    try:\n",
        "        for item in contentArray:\n",
        "            tokenized = nltk.word_tokenize(item)\n",
        "            tagged = nltk.pos_tag(tokenized)\n",
        "            print(tagged)\n",
        "\n",
        "            namedEnt = nltk.ne_chunk(tagged)\n",
        "            namedEnt.draw()\n",
        "\n",
        "            time.sleep(1)\n",
        "\n",
        "    except Exception as e:\n",
        "        print (str(e))"
      ],
      "execution_count": 3,
      "outputs": []
    },
    {
      "cell_type": "code",
      "metadata": {
        "colab": {
          "base_uri": "https://localhost:8080/"
        },
        "id": "kCorTjj9Uox9",
        "outputId": "fa876b8f-b21b-47a0-ff9c-10da63411e39"
      },
      "source": [
        "processLanguage()"
      ],
      "execution_count": 4,
      "outputs": [
        {
          "output_type": "stream",
          "text": [
            "[('A', 'DT'), ('Sadia', 'NNP'), ('vem', 'NN'), ('aumentando', 'NN'), ('sua', 'NN'), ('participação', 'VBZ'), ('no', 'DT'), ('mercado', 'NN'), ('de', 'IN'), ('forma', 'JJ'), ('significativa', 'NN'), ('.', '.')]\n",
            "no display name and no $DISPLAY environment variable\n"
          ],
          "name": "stdout"
        }
      ]
    },
    {
      "cell_type": "markdown",
      "metadata": {
        "id": "n11FGXAIVhBj"
      },
      "source": [
        "<br>\n",
        "<br>\n",
        "<br>\n",
        "<hr>\n",
        "<br>"
      ]
    }
  ]
}