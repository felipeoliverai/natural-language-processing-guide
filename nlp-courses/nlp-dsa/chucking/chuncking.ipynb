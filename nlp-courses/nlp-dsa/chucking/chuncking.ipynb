{
  "nbformat": 4,
  "nbformat_minor": 0,
  "metadata": {
    "colab": {
      "name": "chuncking.ipynb",
      "provenance": [],
      "collapsed_sections": []
    },
    "kernelspec": {
      "name": "python3",
      "display_name": "Python 3"
    }
  },
  "cells": [
    {
      "cell_type": "markdown",
      "metadata": {
        "id": "jfwAAO0V8tPP"
      },
      "source": [
        "#### Chucking \r\n",
        "\r\n",
        "<br>\r\n",
        "<hr>"
      ]
    },
    {
      "cell_type": "code",
      "metadata": {
        "colab": {
          "base_uri": "https://localhost:8080/"
        },
        "id": "rxFzPA7Y8swl",
        "outputId": "228e1f89-c40b-41f1-d823-16e2ee346184"
      },
      "source": [
        "import nltk\r\n",
        "from nltk import pos_tag\r\n",
        "from nltk import RegexpParser \r\n",
        "nltk.download(\"punkt\")\r\n",
        "nltk.download('averaged_perceptron_tagger')"
      ],
      "execution_count": 1,
      "outputs": [
        {
          "output_type": "stream",
          "text": [
            "[nltk_data] Downloading package punkt to /root/nltk_data...\n",
            "[nltk_data]   Package punkt is already up-to-date!\n",
            "[nltk_data] Downloading package averaged_perceptron_tagger to\n",
            "[nltk_data]     /root/nltk_data...\n",
            "[nltk_data]   Package averaged_perceptron_tagger is already up-to-\n",
            "[nltk_data]       date!\n"
          ],
          "name": "stdout"
        },
        {
          "output_type": "execute_result",
          "data": {
            "text/plain": [
              "True"
            ]
          },
          "metadata": {
            "tags": []
          },
          "execution_count": 1
        }
      ]
    },
    {
      "cell_type": "code",
      "metadata": {
        "id": "UQt02sk-8GxZ"
      },
      "source": [
        "# text\r\n",
        "quote = \"The game night promise be amazing, two strongest teams fighter by the trophy\""
      ],
      "execution_count": 2,
      "outputs": []
    },
    {
      "cell_type": "code",
      "metadata": {
        "colab": {
          "base_uri": "https://localhost:8080/"
        },
        "id": "cshy2atb8qxu",
        "outputId": "1d26db8d-0fb3-489c-b7cc-783815112fb9"
      },
      "source": [
        "# tokenization  \r\n",
        "tokens = nltk.word_tokenize(quote)\r\n",
        "print(tokens)"
      ],
      "execution_count": 3,
      "outputs": [
        {
          "output_type": "stream",
          "text": [
            "['The', 'game', 'night', 'promise', 'be', 'amazing', ',', 'two', 'strongest', 'teams', 'fighter', 'by', 'the', 'trophy']\n"
          ],
          "name": "stdout"
        }
      ]
    },
    {
      "cell_type": "code",
      "metadata": {
        "colab": {
          "base_uri": "https://localhost:8080/"
        },
        "id": "KsQ3gYGD80Oc",
        "outputId": "9a6ecb9a-0ca4-4c0b-b590-514803ea012c"
      },
      "source": [
        "# POS-tagger \r\n",
        "tags = pos_tag(tokens)\r\n",
        "print(tags)"
      ],
      "execution_count": 4,
      "outputs": [
        {
          "output_type": "stream",
          "text": [
            "[('The', 'DT'), ('game', 'NN'), ('night', 'NN'), ('promise', 'NN'), ('be', 'VB'), ('amazing', 'JJ'), (',', ','), ('two', 'CD'), ('strongest', 'JJS'), ('teams', 'NNS'), ('fighter', 'RB'), ('by', 'IN'), ('the', 'DT'), ('trophy', 'NN')]\n"
          ],
          "name": "stdout"
        }
      ]
    },
    {
      "cell_type": "code",
      "metadata": {
        "id": "cSmR3qfI87HT"
      },
      "source": [
        "# define grammar rule \r\n",
        "grammar = \"NP: {<DT>?<JJ>*<NN>}\"\r\n",
        "chunk = RegexpParser(grammar)"
      ],
      "execution_count": 5,
      "outputs": []
    },
    {
      "cell_type": "code",
      "metadata": {
        "id": "NfVqzk8B9TY7"
      },
      "source": [
        "# chunck\r\n",
        "res = chunk.parse(tags)"
      ],
      "execution_count": 6,
      "outputs": []
    },
    {
      "cell_type": "code",
      "metadata": {
        "colab": {
          "base_uri": "https://localhost:8080/"
        },
        "id": "PLCBzgK-9X0Y",
        "outputId": "5236db02-b325-42d7-cb05-ed6e038c823f"
      },
      "source": [
        "print(res)"
      ],
      "execution_count": 7,
      "outputs": [
        {
          "output_type": "stream",
          "text": [
            "(S\n",
            "  (NP The/DT game/NN)\n",
            "  (NP night/NN)\n",
            "  (NP promise/NN)\n",
            "  be/VB\n",
            "  amazing/JJ\n",
            "  ,/,\n",
            "  two/CD\n",
            "  strongest/JJS\n",
            "  teams/NNS\n",
            "  fighter/RB\n",
            "  by/IN\n",
            "  (NP the/DT trophy/NN))\n"
          ],
          "name": "stdout"
        }
      ]
    },
    {
      "cell_type": "code",
      "metadata": {
        "colab": {
          "base_uri": "https://localhost:8080/"
        },
        "id": "0lJLTBBGCHys",
        "outputId": "c3bab15b-3767-4430-d609-3fab67a2ed0d"
      },
      "source": [
        "# another sentence\r\n",
        "sentence = \"The little yellow dog barked at the cat\"\r\n",
        "\r\n",
        "# define grammar \r\n",
        "grammar = \"NP: {<DT>?<JJ>*<NN>}\"\r\n",
        "\r\n",
        "# chenck parser \r\n",
        "chunkParser = RegexpParser(grammar)\r\n",
        "tagged = nltk.pos_tag(nltk.word_tokenize(sentence))\r\n",
        "tagged"
      ],
      "execution_count": 8,
      "outputs": [
        {
          "output_type": "execute_result",
          "data": {
            "text/plain": [
              "[('The', 'DT'),\n",
              " ('little', 'JJ'),\n",
              " ('yellow', 'JJ'),\n",
              " ('dog', 'NN'),\n",
              " ('barked', 'VBD'),\n",
              " ('at', 'IN'),\n",
              " ('the', 'DT'),\n",
              " ('cat', 'NN')]"
            ]
          },
          "metadata": {
            "tags": []
          },
          "execution_count": 8
        }
      ]
    },
    {
      "cell_type": "code",
      "metadata": {
        "id": "US7X2vkiCoOD"
      },
      "source": [
        "tree = chunkParser.parse(tagged)"
      ],
      "execution_count": 9,
      "outputs": []
    },
    {
      "cell_type": "code",
      "metadata": {
        "id": "-dKI7K-jFgsB"
      },
      "source": [
        "#tree.draw()"
      ],
      "execution_count": 10,
      "outputs": []
    },
    {
      "cell_type": "code",
      "metadata": {
        "colab": {
          "base_uri": "https://localhost:8080/"
        },
        "id": "TbLxdZHSCtFs",
        "outputId": "df2c7f03-41f8-4497-b03a-6642c8bbb443"
      },
      "source": [
        "for subtree in tree.subtrees():\r\n",
        "    print(subtree)"
      ],
      "execution_count": 11,
      "outputs": [
        {
          "output_type": "stream",
          "text": [
            "(S\n",
            "  (NP The/DT little/JJ yellow/JJ dog/NN)\n",
            "  barked/VBD\n",
            "  at/IN\n",
            "  (NP the/DT cat/NN))\n",
            "(NP The/DT little/JJ yellow/JJ dog/NN)\n",
            "(NP the/DT cat/NN)\n"
          ],
          "name": "stdout"
        }
      ]
    },
    {
      "cell_type": "markdown",
      "metadata": {
        "id": "QitI4kEWBavT"
      },
      "source": [
        "<br>\r\n",
        "<br>\r\n",
        "<hr>"
      ]
    }
  ]
}