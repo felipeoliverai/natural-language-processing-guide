{
  "nbformat": 4,
  "nbformat_minor": 0,
  "metadata": {
    "colab": {
      "name": "pdf_file.ipynb",
      "provenance": [],
      "collapsed_sections": []
    },
    "kernelspec": {
      "name": "python3",
      "display_name": "Python 3"
    }
  },
  "cells": [
    {
      "cell_type": "markdown",
      "metadata": {
        "id": "T6O7k2N6C73z"
      },
      "source": [
        "### PDF file \r\n",
        "\r\n",
        "\r\n",
        "<br>\r\n",
        "<hr>"
      ]
    },
    {
      "cell_type": "code",
      "metadata": {
        "colab": {
          "base_uri": "https://localhost:8080/"
        },
        "id": "iJdyN34iC_3C",
        "outputId": "d40fbdf6-d908-4ec5-a734-a2e6649aeaed"
      },
      "source": [
        "!pip install pypdf2"
      ],
      "execution_count": 1,
      "outputs": [
        {
          "output_type": "stream",
          "text": [
            "Requirement already satisfied: pypdf2 in /usr/local/lib/python3.6/dist-packages (1.26.0)\n"
          ],
          "name": "stdout"
        }
      ]
    },
    {
      "cell_type": "code",
      "metadata": {
        "id": "fFoMzfRgChWg"
      },
      "source": [
        "from PyPDF2 import PdfFileReader"
      ],
      "execution_count": 2,
      "outputs": []
    },
    {
      "cell_type": "code",
      "metadata": {
        "id": "MEpnoJESDCJN"
      },
      "source": [
        "# function for collect text of the PDF file\r\n",
        "def getTextPDF(pdfFileName, password = ''):\r\n",
        "    pdf_file = open(pdfFileName, 'rb')\r\n",
        "    read_pdf = PdfFileReader(pdf_file)\r\n",
        "    if password != '':\r\n",
        "        read_pdf.decrypt(password)\r\n",
        "    text = []\r\n",
        "    for i in range(0,read_pdf.getNumPages()):\r\n",
        "        text.append(read_pdf.getPage(i).extractText())\r\n",
        "    return '\\n'.join(text) "
      ],
      "execution_count": 3,
      "outputs": []
    },
    {
      "cell_type": "code",
      "metadata": {
        "id": "2CphY3OFDPRq"
      },
      "source": [
        "# PDF paths  \r\n",
        "pdfFile = '/content/drive/MyDrive/Deep_Learning_Projetos/NLP-DSA/arquivo1.pdf'\r\n",
        "pdfFileEncrypted = '/content/drive/MyDrive/Deep_Learning_Projetos/NLP-DSA/arquivo1.protected.pdf'"
      ],
      "execution_count": 4,
      "outputs": []
    },
    {
      "cell_type": "code",
      "metadata": {
        "colab": {
          "base_uri": "https://localhost:8080/"
        },
        "id": "kWEuur9KDo4F",
        "outputId": "6928f35f-d040-4a5c-f798-00b193417e92"
      },
      "source": [
        "# obtain text of PDF files \r\n",
        "print('PDF 1: \\n', getTextPDF(pdfFile))\r\n",
        "print('PDF 2: \\n', getTextPDF(pdfFileEncrypted,'tuffy'))"
      ],
      "execution_count": 5,
      "outputs": [
        {
          "output_type": "stream",
          "text": [
            "PDF 1: \n",
            "  \n",
            "Este é um arquivo pdf que contém \n",
            "parte do texto em negrito\n",
            ", \n",
            "parte em itálico \n",
            "e \n",
            "parte sublinhado.\n",
            " \n",
            "Também \n",
            "temos um título neste documento.\n",
            " \n",
            "Este é o Título.\n",
            " \n",
            " \n",
            "\n",
            "PDF 2: \n",
            " This is a sample PDF document\n",
            " \n",
            "password protected.\n",
            " \n",
            "\n"
          ],
          "name": "stdout"
        }
      ]
    },
    {
      "cell_type": "code",
      "metadata": {
        "colab": {
          "base_uri": "https://localhost:8080/"
        },
        "id": "V3iFS03uE7Bk",
        "outputId": "fca3d327-bbdb-4c99-f23d-533d083f902c"
      },
      "source": [
        "text = getTextPDF(pdfFileName=pdfFile)\r\n",
        "type(text)"
      ],
      "execution_count": 6,
      "outputs": [
        {
          "output_type": "execute_result",
          "data": {
            "text/plain": [
              "str"
            ]
          },
          "metadata": {
            "tags": []
          },
          "execution_count": 6
        }
      ]
    },
    {
      "cell_type": "code",
      "metadata": {
        "colab": {
          "base_uri": "https://localhost:8080/"
        },
        "id": "jExtsTyPFHEa",
        "outputId": "fbba6ebe-d95b-4ea5-e2ca-f26752d443eb"
      },
      "source": [
        "len(text)"
      ],
      "execution_count": 7,
      "outputs": [
        {
          "output_type": "execute_result",
          "data": {
            "text/plain": [
              "170"
            ]
          },
          "metadata": {
            "tags": []
          },
          "execution_count": 7
        }
      ]
    },
    {
      "cell_type": "code",
      "metadata": {
        "colab": {
          "base_uri": "https://localhost:8080/"
        },
        "id": "q9oy1RE0BN-x",
        "outputId": "28009023-6216-4174-b983-a272ee8c3a15"
      },
      "source": [
        "for word in text.split():\r\n",
        "  print(word)"
      ],
      "execution_count": 8,
      "outputs": [
        {
          "output_type": "stream",
          "text": [
            "Este\n",
            "é\n",
            "um\n",
            "arquivo\n",
            "pdf\n",
            "que\n",
            "contém\n",
            "parte\n",
            "do\n",
            "texto\n",
            "em\n",
            "negrito\n",
            ",\n",
            "parte\n",
            "em\n",
            "itálico\n",
            "e\n",
            "parte\n",
            "sublinhado.\n",
            "Também\n",
            "temos\n",
            "um\n",
            "título\n",
            "neste\n",
            "documento.\n",
            "Este\n",
            "é\n",
            "o\n",
            "Título.\n"
          ],
          "name": "stdout"
        }
      ]
    },
    {
      "cell_type": "code",
      "metadata": {
        "id": "FI46IB_UBRqA"
      },
      "source": [
        "import nltk \r\n",
        "from nltk import FreqDist"
      ],
      "execution_count": 9,
      "outputs": []
    },
    {
      "cell_type": "code",
      "metadata": {
        "colab": {
          "base_uri": "https://localhost:8080/"
        },
        "id": "PcR6zlTnBZGg",
        "outputId": "d39cffa3-99e2-4159-8f72-81080118418b"
      },
      "source": [
        "# PDF word frequency\r\n",
        "\r\n",
        "tokens = []\r\n",
        "for word in text.split():\r\n",
        "  tokens.append(word)\r\n",
        "\r\n",
        "frequency = FreqDist(tokens)\r\n",
        "frequency"
      ],
      "execution_count": 10,
      "outputs": [
        {
          "output_type": "execute_result",
          "data": {
            "text/plain": [
              "FreqDist({',': 1,\n",
              "          'Este': 2,\n",
              "          'Também': 1,\n",
              "          'Título.': 1,\n",
              "          'arquivo': 1,\n",
              "          'contém': 1,\n",
              "          'do': 1,\n",
              "          'documento.': 1,\n",
              "          'e': 1,\n",
              "          'em': 2,\n",
              "          'itálico': 1,\n",
              "          'negrito': 1,\n",
              "          'neste': 1,\n",
              "          'o': 1,\n",
              "          'parte': 3,\n",
              "          'pdf': 1,\n",
              "          'que': 1,\n",
              "          'sublinhado.': 1,\n",
              "          'temos': 1,\n",
              "          'texto': 1,\n",
              "          'título': 1,\n",
              "          'um': 2,\n",
              "          'é': 2})"
            ]
          },
          "metadata": {
            "tags": []
          },
          "execution_count": 10
        }
      ]
    },
    {
      "cell_type": "markdown",
      "metadata": {
        "id": "jZ6Nc36GD0H1"
      },
      "source": [
        "<br>\r\n",
        "<hr>"
      ]
    }
  ]
}