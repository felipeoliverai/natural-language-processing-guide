{
  "nbformat": 4,
  "nbformat_minor": 0,
  "metadata": {
    "colab": {
      "name": "strings_manipulation.ipynb",
      "provenance": [],
      "collapsed_sections": []
    },
    "kernelspec": {
      "name": "python3",
      "display_name": "Python 3"
    }
  },
  "cells": [
    {
      "cell_type": "markdown",
      "metadata": {
        "id": "cRo39Wwv83sL"
      },
      "source": [
        "### Strings manipulation \r\n",
        "\r\n",
        "<br>\r\n",
        "<hr>"
      ]
    },
    {
      "cell_type": "code",
      "metadata": {
        "id": "sB8CDlgy1Y4v"
      },
      "source": [
        "# define Strings\r\n",
        "namesList = ['Eric','Bob','Marc','Tim']\r\n",
        "sentence = 'My dog to be sleeping in couch'"
      ],
      "execution_count": 1,
      "outputs": []
    },
    {
      "cell_type": "code",
      "metadata": {
        "colab": {
          "base_uri": "https://localhost:8080/"
        },
        "id": "1bwAy4Yh8QKU",
        "outputId": "d2493030-7f27-4065-80d4-2350ada0bfda"
      },
      "source": [
        "# insert \";\" in the list \r\n",
        "names = ';'.join(namesList)\r\n",
        "print(type(names), ':', names)"
      ],
      "execution_count": 2,
      "outputs": [
        {
          "output_type": "stream",
          "text": [
            "<class 'str'> : Eric;Bob;Marc;Tim\n"
          ],
          "name": "stdout"
        }
      ]
    },
    {
      "cell_type": "code",
      "metadata": {
        "colab": {
          "base_uri": "https://localhost:8080/"
        },
        "id": "uA6IwPmF8Y4q",
        "outputId": "3b9b6cb6-b3c0-45cb-dcf9-b35982679a84"
      },
      "source": [
        "# convert a sentece to words list \r\n",
        "wordList = sentence.split(' ')\r\n",
        "print((type(wordList)), ':', wordList)"
      ],
      "execution_count": 3,
      "outputs": [
        {
          "output_type": "stream",
          "text": [
            "<class 'list'> : ['My', 'dog', 'to', 'be', 'sleeping', 'in', 'couch']\n"
          ],
          "name": "stdout"
        }
      ]
    },
    {
      "cell_type": "code",
      "metadata": {
        "colab": {
          "base_uri": "https://localhost:8080/"
        },
        "id": "gfoLzg5w8ksU",
        "outputId": "cad3277b-8a5e-46f0-d64b-138ed95ceed9"
      },
      "source": [
        "# add tokens in the list \r\n",
        "tokens = []\r\n",
        "for word in sentence.split():\r\n",
        "  tokens.append(word)\r\n",
        "\r\n",
        "tokens"
      ],
      "execution_count": 4,
      "outputs": [
        {
          "output_type": "execute_result",
          "data": {
            "text/plain": [
              "['My', 'dog', 'to', 'be', 'sleeping', 'in', 'couch']"
            ]
          },
          "metadata": {
            "tags": []
          },
          "execution_count": 4
        }
      ]
    },
    {
      "cell_type": "code",
      "metadata": {
        "colab": {
          "base_uri": "https://localhost:8080/"
        },
        "id": "T7YmKQLt8yRj",
        "outputId": "a16b2646-0321-4a8b-bd3c-794dc680d4ab"
      },
      "source": [
        "# strings math operations \r\n",
        "additionExample = 'judge' + 'judge' + 'judge'\r\n",
        "multiplicationExample = 'judge' * 2\r\n",
        "print('Text Adition :', additionExample)\r\n",
        "print('Multply of Text :', multiplicationExample)"
      ],
      "execution_count": 5,
      "outputs": [
        {
          "output_type": "stream",
          "text": [
            "Text Adition : judgejudgejudge\n",
            "Multply of Text : judgejudge\n"
          ],
          "name": "stdout"
        }
      ]
    },
    {
      "cell_type": "code",
      "metadata": {
        "colab": {
          "base_uri": "https://localhost:8080/"
        },
        "id": "TDZ_mWpl9zkK",
        "outputId": "905ff463-7cb1-48b7-faa9-0de552826cce"
      },
      "source": [
        "# extract character of the text \r\n",
        "string = 'Python NLTK'\r\n",
        "print(string[1])\r\n",
        "print(string[-3])"
      ],
      "execution_count": 6,
      "outputs": [
        {
          "output_type": "stream",
          "text": [
            "y\n",
            "L\n"
          ],
          "name": "stdout"
        }
      ]
    },
    {
      "cell_type": "code",
      "metadata": {
        "colab": {
          "base_uri": "https://localhost:8080/"
        },
        "id": "XAtlIQbq-9aU",
        "outputId": "349e7747-7643-41a9-c7a2-746b5843fe83"
      },
      "source": [
        "# extract and replace characters\r\n",
        "string = 'Studying Python string manipulation'\r\n",
        "print('Substring ended in :', string[:8])"
      ],
      "execution_count": 7,
      "outputs": [
        {
          "output_type": "stream",
          "text": [
            "Substring ended in : Studying\n"
          ],
          "name": "stdout"
        }
      ]
    },
    {
      "cell_type": "code",
      "metadata": {
        "colab": {
          "base_uri": "https://localhost:8080/"
        },
        "id": "O2bwgpMO_zLy",
        "outputId": "8b1daaa0-ac38-4251-f867-5e48575fbb44"
      },
      "source": [
        "if \"Python\" in string:\r\n",
        "  print('Ok, all right')"
      ],
      "execution_count": 8,
      "outputs": [
        {
          "output_type": "stream",
          "text": [
            "Ok, all right\n"
          ],
          "name": "stdout"
        }
      ]
    },
    {
      "cell_type": "code",
      "metadata": {
        "colab": {
          "base_uri": "https://localhost:8080/"
        },
        "id": "iHShAdqrABC6",
        "outputId": "b6d572a2-f9e0-4f92-fca7-eb1bb0966daa"
      },
      "source": [
        "# replace \r\n",
        "replaced = string.replace(\"manipulation\", \"hadling\")\r\n",
        "print(\"Word that was replaced: \", replaced)"
      ],
      "execution_count": 9,
      "outputs": [
        {
          "output_type": "stream",
          "text": [
            "Word that was replaced:  Studying Python string hadling\n"
          ],
          "name": "stdout"
        }
      ]
    },
    {
      "cell_type": "code",
      "metadata": {
        "colab": {
          "base_uri": "https://localhost:8080/"
        },
        "id": "XkDinz-FAvs9",
        "outputId": "ba502514-dafc-4889-f773-5050b16e2dd5"
      },
      "source": [
        "# one a one character \r\n",
        "for i in replaced:\r\n",
        "  print(i)"
      ],
      "execution_count": 10,
      "outputs": [
        {
          "output_type": "stream",
          "text": [
            "S\n",
            "t\n",
            "u\n",
            "d\n",
            "y\n",
            "i\n",
            "n\n",
            "g\n",
            " \n",
            "P\n",
            "y\n",
            "t\n",
            "h\n",
            "o\n",
            "n\n",
            " \n",
            "s\n",
            "t\n",
            "r\n",
            "i\n",
            "n\n",
            "g\n",
            " \n",
            "h\n",
            "a\n",
            "d\n",
            "l\n",
            "i\n",
            "n\n",
            "g\n"
          ],
          "name": "stdout"
        }
      ]
    },
    {
      "cell_type": "markdown",
      "metadata": {
        "id": "dcvyvnHE9tos"
      },
      "source": [
        "<br>\r\n",
        "<hr>"
      ]
    }
  ]
}