{
  "nbformat": 4,
  "nbformat_minor": 0,
  "metadata": {
    "colab": {
      "name": "web_scraping.ipynb",
      "provenance": [],
      "collapsed_sections": []
    },
    "kernelspec": {
      "name": "python3",
      "display_name": "Python 3"
    }
  },
  "cells": [
    {
      "cell_type": "markdown",
      "metadata": {
        "id": "GCu86XQcW9tM"
      },
      "source": [
        "### Web scraping \r\n",
        "\r\n",
        "\r\n",
        "<br>\r\n",
        "<hr>"
      ]
    },
    {
      "cell_type": "code",
      "metadata": {
        "id": "-Ecn3n6XW4GF"
      },
      "source": [
        "from bs4 import BeautifulSoup"
      ],
      "execution_count": 1,
      "outputs": []
    },
    {
      "cell_type": "code",
      "metadata": {
        "id": "O1DTsgMIXCgE"
      },
      "source": [
        "# file \r\n",
        "html_doc = open('/content/drive/MyDrive/Deep_Learning_Projetos/NLP-DSA/corpus/index.html', 'r').read()"
      ],
      "execution_count": 2,
      "outputs": []
    },
    {
      "cell_type": "code",
      "metadata": {
        "id": "n3VwydLOXDiU"
      },
      "source": [
        "# Parser\r\n",
        "soup = BeautifulSoup(html_doc, 'html.parser')"
      ],
      "execution_count": 3,
      "outputs": []
    },
    {
      "cell_type": "code",
      "metadata": {
        "colab": {
          "base_uri": "https://localhost:8080/"
        },
        "id": "65tZySleXTkz",
        "outputId": "a5a5124e-b731-45f1-87a9-58ca62273a02"
      },
      "source": [
        "print('Complete HTML text Stripped:')\r\n",
        "print(soup.get_text())"
      ],
      "execution_count": 4,
      "outputs": [
        {
          "output_type": "stream",
          "text": [
            "Complete HTML text Stripped:\n",
            "\n",
            "\n",
            "\n",
            "HTML Web Page\n",
            "\n",
            "\n",
            "\n",
            "Título da Página\n",
            "Este é um documento HTML muito simples\n",
            "Melhore sua análise, incluindo uma imagem. \n",
            "\n",
            "Adicione um link para o seu favorito Web site.\n",
            " Esta é uma nova frase sem uma quebra de parágrafo, em itálico em negrito.\n",
            "\n",
            "\n"
          ],
          "name": "stdout"
        }
      ]
    },
    {
      "cell_type": "code",
      "metadata": {
        "colab": {
          "base_uri": "https://localhost:8080/"
        },
        "id": "jGm-AAnFXWrU",
        "outputId": "b8dc2457-8fed-4bb1-c59c-caa5c99552da"
      },
      "source": [
        "# acess title \r\n",
        "print('Acess text at tag <title> :', end=' ')\r\n",
        "print(soup.title)"
      ],
      "execution_count": 5,
      "outputs": [
        {
          "output_type": "stream",
          "text": [
            "Acess text at tag <title> : <title>HTML Web Page</title>\n"
          ],
          "name": "stdout"
        }
      ]
    },
    {
      "cell_type": "code",
      "metadata": {
        "colab": {
          "base_uri": "https://localhost:8080/"
        },
        "id": "4lI7E2aVXeaG",
        "outputId": "086275c5-7d54-45c5-c825-16dd71d030db"
      },
      "source": [
        "print('Acess text at tag <H1> :', end=' ')\r\n",
        "print(soup.h1.string)"
      ],
      "execution_count": 6,
      "outputs": [
        {
          "output_type": "stream",
          "text": [
            "Acess text at tag <H1> : Título da Página\n"
          ],
          "name": "stdout"
        }
      ]
    },
    {
      "cell_type": "code",
      "metadata": {
        "colab": {
          "base_uri": "https://localhost:8080/"
        },
        "id": "O5LAVmMRXkB1",
        "outputId": "b53cf0d7-592f-4e75-8464-e98cdbc6d26d"
      },
      "source": [
        "print('Acess property at tag tag <img> :', end=' ')\r\n",
        "print(soup.img['alt'])"
      ],
      "execution_count": 7,
      "outputs": [
        {
          "output_type": "stream",
          "text": [
            "Acess property at tag tag <img> : Estudando PLN\n"
          ],
          "name": "stdout"
        }
      ]
    },
    {
      "cell_type": "code",
      "metadata": {
        "colab": {
          "base_uri": "https://localhost:8080/"
        },
        "id": "6S4CF7OlXrYL",
        "outputId": "198b9bb7-2e59-4696-a871-5c24f5b8eb91"
      },
      "source": [
        "print('\\nAcess all occurences at tag <p> :')\r\n",
        "for p in soup.find_all('p'):\r\n",
        "    print(p.string)"
      ],
      "execution_count": 8,
      "outputs": [
        {
          "output_type": "stream",
          "text": [
            "\n",
            "Acess all occurences at tag <p> :\n",
            "Este é um documento HTML muito simples\n",
            "Melhore sua análise, incluindo uma imagem. \n",
            "None\n"
          ],
          "name": "stdout"
        }
      ]
    },
    {
      "cell_type": "markdown",
      "metadata": {
        "id": "HSLlHQ1kXxj0"
      },
      "source": [
        "<br>\r\n",
        "<hr>"
      ]
    }
  ]
}