{
  "nbformat": 4,
  "nbformat_minor": 0,
  "metadata": {
    "colab": {
      "name": "docx_files.ipynb",
      "provenance": [],
      "collapsed_sections": []
    },
    "kernelspec": {
      "name": "python3",
      "display_name": "Python 3"
    }
  },
  "cells": [
    {
      "cell_type": "markdown",
      "metadata": {
        "id": "HRwzrFmIE1Qp"
      },
      "source": [
        "### Docx files \r\n",
        "\r\n",
        "<br>\r\n",
        "<hr>"
      ]
    },
    {
      "cell_type": "code",
      "metadata": {
        "colab": {
          "base_uri": "https://localhost:8080/"
        },
        "id": "jvptHmLzE6Fp",
        "outputId": "11a8fa8d-d067-485a-fc86-7f6d1d2a9f1e"
      },
      "source": [
        "!pip install python-docx"
      ],
      "execution_count": 1,
      "outputs": [
        {
          "output_type": "stream",
          "text": [
            "Requirement already satisfied: python-docx in /usr/local/lib/python3.6/dist-packages (0.8.10)\n",
            "Requirement already satisfied: lxml>=2.3.2 in /usr/local/lib/python3.6/dist-packages (from python-docx) (4.2.6)\n"
          ],
          "name": "stdout"
        }
      ]
    },
    {
      "cell_type": "code",
      "metadata": {
        "id": "mzhoToQFEuWD"
      },
      "source": [
        "import docx"
      ],
      "execution_count": 2,
      "outputs": []
    },
    {
      "cell_type": "code",
      "metadata": {
        "id": "heQAZYr3E9lg"
      },
      "source": [
        "# function for obtain word text \r\n",
        "def getTextWord(wordFileName):\r\n",
        "    doc = docx.Document(wordFileName)\r\n",
        "    fullText = []\r\n",
        "    for sentence in doc.paragraphs:\r\n",
        "        fullText.append(sentence.text)\r\n",
        "    return '\\n'.join(fullText)"
      ],
      "execution_count": 3,
      "outputs": []
    },
    {
      "cell_type": "code",
      "metadata": {
        "colab": {
          "base_uri": "https://localhost:8080/"
        },
        "id": "IKumXlgEFHT3",
        "outputId": "7df06f2b-a4c8-4bec-aea7-939b72867e8a"
      },
      "source": [
        "# docx file \r\n",
        "docName = '/content/drive/MyDrive/Deep_Learning_Projetos/NLP-DSA/corpus/file1.docx'\r\n",
        "\r\n",
        "print('Complete Doc:\\n', getTextWord(docName))\r\n",
        "print(\"\\n\")"
      ],
      "execution_count": 7,
      "outputs": [
        {
          "output_type": "stream",
          "text": [
            "Complete Doc:\n",
            " Speech Recognition: Smart speakers, such as Alexa uses automatic speech recognition (ASR) mechanisms for translating the speech into text. It translates the spoken words into text and between this translation, the ASR mechanism analyzes the intent/sentiments of the user by differentiating between the words. For example, analyzing homophone phrases such as “Let her” or “Letter”, “But her” “Butter”.\n",
            "\n",
            "\n",
            "Formal languages (like a programming language) are precisely defined. All the words and their usage is predefined in the system. Anyone who knows a specific programming language can understand what’s written without any formal specification.  \n",
            "\n",
            "\n"
          ],
          "name": "stdout"
        }
      ]
    },
    {
      "cell_type": "code",
      "metadata": {
        "colab": {
          "base_uri": "https://localhost:8080/"
        },
        "id": "RnxLykRXFsln",
        "outputId": "7d1f43f0-40e6-4a83-bf8e-c73991d4c340"
      },
      "source": [
        "# document statistics \r\n",
        "doc = docx.Document(docName)\r\n",
        "\r\n",
        "print('Number of Paragraphs :', len(doc.paragraphs)-1)\r\n",
        "print('Paragraph 1:', doc.paragraphs[1].text)\r\n",
        "print('Number of executions in paragraph 1:', len(doc.paragraphs[1].runs))"
      ],
      "execution_count": 9,
      "outputs": [
        {
          "output_type": "stream",
          "text": [
            "Number of Paragraphs : 3\n",
            "Paragraph 1: \n",
            "Number of executions in paragraph 1: 1\n"
          ],
          "name": "stdout"
        }
      ]
    },
    {
      "cell_type": "code",
      "metadata": {
        "colab": {
          "base_uri": "https://localhost:8080/"
        },
        "id": "mOuaPf_vGWQ9",
        "outputId": "3325df02-ea2c-4b9e-f413-f94581dda3f0"
      },
      "source": [
        "for idx, run in enumerate(doc.paragraphs[1].runs):\r\n",
        "    print('Run %s : %s' %(idx,run.text))"
      ],
      "execution_count": 10,
      "outputs": [
        {
          "output_type": "stream",
          "text": [
            "Run 0 : \n"
          ],
          "name": "stdout"
        }
      ]
    },
    {
      "cell_type": "markdown",
      "metadata": {
        "id": "0wnEodKtGhrB"
      },
      "source": [
        "<br>\r\n",
        "<hr>"
      ]
    }
  ]
}