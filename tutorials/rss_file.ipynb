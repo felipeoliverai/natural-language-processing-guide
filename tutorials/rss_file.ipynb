{
  "nbformat": 4,
  "nbformat_minor": 0,
  "metadata": {
    "colab": {
      "name": "rss_file.ipynb",
      "provenance": [],
      "collapsed_sections": []
    },
    "kernelspec": {
      "name": "python3",
      "display_name": "Python 3"
    }
  },
  "cells": [
    {
      "cell_type": "markdown",
      "metadata": {
        "id": "gvRfDIf1UQXS"
      },
      "source": [
        "### RSS file - Feed content\r\n",
        "\r\n",
        "<br>\r\n",
        "<hr>"
      ]
    },
    {
      "cell_type": "code",
      "metadata": {
        "colab": {
          "base_uri": "https://localhost:8080/"
        },
        "id": "y9EtL8uRUTtL",
        "outputId": "712dfa80-de01-4715-f526-6d0e8d3eb8bc"
      },
      "source": [
        "!pip install feedparser"
      ],
      "execution_count": 1,
      "outputs": [
        {
          "output_type": "stream",
          "text": [
            "Requirement already satisfied: feedparser in /usr/local/lib/python3.6/dist-packages (6.0.2)\n",
            "Requirement already satisfied: sgmllib3k in /usr/local/lib/python3.6/dist-packages (from feedparser) (1.0.0)\n"
          ],
          "name": "stdout"
        }
      ]
    },
    {
      "cell_type": "code",
      "metadata": {
        "id": "wdEj2S-EUNf9"
      },
      "source": [
        "import feedparser"
      ],
      "execution_count": 2,
      "outputs": []
    },
    {
      "cell_type": "code",
      "metadata": {
        "id": "lgez20BAUWqC"
      },
      "source": [
        "myFeed = feedparser.parse(\"http://feeds.mashable.com/Mashable\")"
      ],
      "execution_count": 3,
      "outputs": []
    },
    {
      "cell_type": "code",
      "metadata": {
        "colab": {
          "base_uri": "https://localhost:8080/"
        },
        "id": "igeTDKVkUXZp",
        "outputId": "e521c5f5-e839-41d9-98e3-942267a6156f"
      },
      "source": [
        "print('Title of Feed :', myFeed['feed']['title'])\r\n",
        "print('Number of the posts :', len(myFeed.entries))\r\n",
        "post = myFeed.entries[0]\r\n",
        "print('Post Title :',post.title)\r\n",
        "content = post.content[0].value\r\n",
        "print('Content :\\n', content)"
      ],
      "execution_count": 4,
      "outputs": [
        {
          "output_type": "stream",
          "text": [
            "Title of Feed : Mashable\n",
            "Number of the posts : 30\n",
            "Post Title : Everything coming to Hulu in January 2021\n",
            "Content :\n",
            " <img alt=\"Everything coming to Hulu in January 2021\" src=\"https://mondrian.mashable.com/lead-img-hulu-january-2021.png\" /><div><div>\n",
            "<p><img alt=\"Uploads%252fvideo uploaders%252fdistribution thumb%252fimage%252f94900%252f99510070 dd09 4d19 99ed 0977cf68db51.png%252f930x520.png?signature=unlisc8ckep5vudncbpddnz6iac=&amp;source=https%3a%2f%2fblueprint api production.s3.amazonaws\" src=\"https://mondrian.mashable.com/uploads%252Fvideo_uploaders%252Fdistribution_thumb%252Fimage%252F94900%252F99510070-dd09-4d19-99ed-0977cf68db51.png%252Ffull-fit-in__575x2000.png?signature=e7VF9D5XkS20dnx51HdAkFFcUDE=&amp;source=https%3A%2F%2Fblueprint-api-production.s3.amazonaws.com\" /> <a href=\"https://mashable.com/article/hulu-january-2021/\">Read more...</a></p>\n",
            "&amp;\n",
            "</div></div>More about <a href=\"https://mashable.com/category/hulu/?utm_campaign=Mash-Prod-RSS-Feedburner-All-Partial&amp;utm_cid=Mash-Prod-RSS-Feedburner-All-Partial\">Hulu</a>, <a href=\"https://mashable.com/category/january/?utm_campaign=Mash-Prod-RSS-Feedburner-All-Partial&amp;utm_cid=Mash-Prod-RSS-Feedburner-All-Partial\">January</a>, <a href=\"https://mashable.com/entertainment/?utm_campaign=Mash-Prod-RSS-Feedburner-All-Partial&amp;utm_cid=Mash-Prod-RSS-Feedburner-All-Partial\">Entertainment</a>, <a href=\"https://mashable.com/category/movies-tv-shows/?utm_campaign=Mash-Prod-RSS-Feedburner-All-Partial&amp;utm_cid=Mash-Prod-RSS-Feedburner-All-Partial\">Movies Tv Shows</a>, and <a href=\"https://mashable.com/category/streaming-services/?utm_campaign=Mash-Prod-RSS-Feedburner-All-Partial&amp;utm_cid=Mash-Prod-RSS-Feedburner-All-Partial\">Streaming Services</a><img alt=\"\" height=\"1\" src=\"http://feeds.feedburner.com/~r/Mashable/~4/nodLd6LWv60\" width=\"1\" />\n"
          ],
          "name": "stdout"
        }
      ]
    },
    {
      "cell_type": "markdown",
      "metadata": {
        "id": "lKPP2zxLV4Aj"
      },
      "source": [
        "<br>\r\n",
        "<hr>"
      ]
    }
  ]
}