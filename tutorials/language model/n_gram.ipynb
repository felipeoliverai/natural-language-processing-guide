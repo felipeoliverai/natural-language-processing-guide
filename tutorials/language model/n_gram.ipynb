{
  "nbformat": 4,
  "nbformat_minor": 0,
  "metadata": {
    "colab": {
      "name": "n-gram.ipynb",
      "provenance": [],
      "collapsed_sections": []
    },
    "kernelspec": {
      "name": "python3",
      "display_name": "Python 3"
    }
  },
  "cells": [
    {
      "cell_type": "markdown",
      "metadata": {
        "id": "MH7tXpCcfS_U"
      },
      "source": [
        "### Language Model \r\n",
        "\r\n",
        "<br>\r\n",
        "<hr>"
      ]
    },
    {
      "cell_type": "markdown",
      "metadata": {
        "id": "R1k9vlpOhPF7"
      },
      "source": [
        "#### N-gram model\r\n",
        "\r\n",
        "this is a most simple language model, using N-GRAM for make language model, in this case we'll use a Trigram"
      ]
    },
    {
      "cell_type": "code",
      "metadata": {
        "colab": {
          "base_uri": "https://localhost:8080/"
        },
        "id": "yKcgNnglfO_d",
        "outputId": "12d42a65-b574-4f55-f8b3-afc81ab89aeb"
      },
      "source": [
        "import nltk\r\n",
        "nltk.download('punkt')\r\n",
        "nltk.download('reuters')\r\n",
        "from nltk.corpus import reuters\r\n",
        "from nltk import bigrams, trigrams\r\n",
        "from collections import Counter, defaultdict"
      ],
      "execution_count": 1,
      "outputs": [
        {
          "output_type": "stream",
          "text": [
            "[nltk_data] Downloading package punkt to /root/nltk_data...\n",
            "[nltk_data]   Package punkt is already up-to-date!\n",
            "[nltk_data] Downloading package reuters to /root/nltk_data...\n",
            "[nltk_data]   Package reuters is already up-to-date!\n"
          ],
          "name": "stdout"
        }
      ]
    },
    {
      "cell_type": "code",
      "metadata": {
        "id": "Sh4KpQ6-hTtf"
      },
      "source": [
        "# create model\r\n",
        "model = defaultdict(lambda: defaultdict(lambda: 0))"
      ],
      "execution_count": 2,
      "outputs": []
    },
    {
      "cell_type": "code",
      "metadata": {
        "id": "1xZ59TgPhpKe"
      },
      "source": [
        "# count frequency and co-occurance\r\n",
        "\r\n",
        "for sentence in reuters.sents():\r\n",
        "  for w1, w2, w3 in trigrams(sentence, pad_right=True, pad_left=True):\r\n",
        "    model[(w1, w2)][w3] += 1"
      ],
      "execution_count": 3,
      "outputs": []
    },
    {
      "cell_type": "code",
      "metadata": {
        "id": "L1gTLkAPh0z-"
      },
      "source": [
        "# Let's transform the counts to probabilities (trigram)\r\n",
        "\r\n",
        "for w1_w2 in model: \r\n",
        "  total_count = float(sum(model[w1_w2].values()))\r\n",
        "  for w3 in model[w1_w2]:\r\n",
        "    model[w1_w2][w3] /= total_count "
      ],
      "execution_count": 4,
      "outputs": []
    },
    {
      "cell_type": "code",
      "metadata": {
        "colab": {
          "base_uri": "https://localhost:8080/"
        },
        "id": "uxBZJNhhBGSZ",
        "outputId": "ea3858e5-9562-4483-e1e5-72a3953ff936"
      },
      "source": [
        "type(model)"
      ],
      "execution_count": 5,
      "outputs": [
        {
          "output_type": "execute_result",
          "data": {
            "text/plain": [
              "collections.defaultdict"
            ]
          },
          "metadata": {
            "tags": []
          },
          "execution_count": 5
        }
      ]
    },
    {
      "cell_type": "code",
      "metadata": {
        "colab": {
          "base_uri": "https://localhost:8080/"
        },
        "id": "zPDfZGTsBJoS",
        "outputId": "a005a1b4-6549-44cf-e267-e290ffbab415"
      },
      "source": [
        "# predict the next word \r\n",
        "dict(model[\"today\", \"the\"])"
      ],
      "execution_count": 6,
      "outputs": [
        {
          "output_type": "execute_result",
          "data": {
            "text/plain": [
              "{'Bank': 0.05555555555555555,\n",
              " 'European': 0.05555555555555555,\n",
              " 'Higher': 0.05555555555555555,\n",
              " 'Italian': 0.05555555555555555,\n",
              " 'Turkish': 0.05555555555555555,\n",
              " 'company': 0.16666666666666666,\n",
              " 'emirate': 0.05555555555555555,\n",
              " 'increase': 0.05555555555555555,\n",
              " 'newspaper': 0.05555555555555555,\n",
              " 'options': 0.05555555555555555,\n",
              " 'overseas': 0.05555555555555555,\n",
              " 'pound': 0.05555555555555555,\n",
              " 'price': 0.1111111111111111,\n",
              " 'public': 0.05555555555555555,\n",
              " 'time': 0.05555555555555555}"
            ]
          },
          "metadata": {
            "tags": []
          },
          "execution_count": 6
        }
      ]
    },
    {
      "cell_type": "code",
      "metadata": {
        "colab": {
          "base_uri": "https://localhost:8080/"
        },
        "id": "vLMbx4EkBuAY",
        "outputId": "e345f6e0-5497-4184-e530-33a11ee02bc7"
      },
      "source": [
        "dict(model[\"the\", \"price\"])"
      ],
      "execution_count": 7,
      "outputs": [
        {
          "output_type": "execute_result",
          "data": {
            "text/plain": [
              "{'(': 0.009302325581395349,\n",
              " ',': 0.018604651162790697,\n",
              " ',\"': 0.004651162790697674,\n",
              " '-': 0.004651162790697674,\n",
              " '.': 0.023255813953488372,\n",
              " 'Royal': 0.004651162790697674,\n",
              " 'action': 0.004651162790697674,\n",
              " 'adjustment': 0.023255813953488372,\n",
              " 'adjustments': 0.004651162790697674,\n",
              " 'again': 0.004651162790697674,\n",
              " 'and': 0.004651162790697674,\n",
              " 'approached': 0.004651162790697674,\n",
              " 'at': 0.023255813953488372,\n",
              " 'base': 0.004651162790697674,\n",
              " 'being': 0.004651162790697674,\n",
              " 'changes': 0.004651162790697674,\n",
              " 'climate': 0.004651162790697674,\n",
              " 'collapse': 0.004651162790697674,\n",
              " 'could': 0.004651162790697674,\n",
              " 'cut': 0.009302325581395349,\n",
              " 'cuts': 0.009302325581395349,\n",
              " 'difference': 0.004651162790697674,\n",
              " 'differentials': 0.009302325581395349,\n",
              " 'drop': 0.004651162790697674,\n",
              " 'effect': 0.004651162790697674,\n",
              " 'evolution': 0.004651162790697674,\n",
              " 'factor': 0.004651162790697674,\n",
              " 'fall': 0.004651162790697674,\n",
              " 'for': 0.05116279069767442,\n",
              " 'freeze': 0.009302325581395349,\n",
              " 'from': 0.004651162790697674,\n",
              " 'gap': 0.004651162790697674,\n",
              " 'guaranteed': 0.004651162790697674,\n",
              " 'had': 0.004651162790697674,\n",
              " 'has': 0.009302325581395349,\n",
              " 'hike': 0.004651162790697674,\n",
              " 'holds': 0.004651162790697674,\n",
              " 'in': 0.004651162790697674,\n",
              " 'increase': 0.009302325581395349,\n",
              " 'increases': 0.013953488372093023,\n",
              " 'instability': 0.004651162790697674,\n",
              " 'is': 0.018604651162790697,\n",
              " 'it': 0.05581395348837209,\n",
              " 'led': 0.004651162790697674,\n",
              " 'limit': 0.004651162790697674,\n",
              " 'move': 0.004651162790697674,\n",
              " 'moved': 0.004651162790697674,\n",
              " 'now': 0.004651162790697674,\n",
              " 'of': 0.3209302325581395,\n",
              " 'on': 0.004651162790697674,\n",
              " 'outlook': 0.004651162790697674,\n",
              " 'paid': 0.013953488372093023,\n",
              " 'per': 0.013953488372093023,\n",
              " 'policy': 0.004651162790697674,\n",
              " 'projected': 0.004651162790697674,\n",
              " 'raise': 0.004651162790697674,\n",
              " 'reductions': 0.004651162790697674,\n",
              " 'related': 0.004651162790697674,\n",
              " 'review': 0.004651162790697674,\n",
              " 'revision': 0.004651162790697674,\n",
              " 'rises': 0.004651162790697674,\n",
              " 'slump': 0.004651162790697674,\n",
              " 'slumped': 0.004651162790697674,\n",
              " 'stayed': 0.009302325581395349,\n",
              " 'structure': 0.004651162790697674,\n",
              " 'support': 0.004651162790697674,\n",
              " 'the': 0.013953488372093023,\n",
              " 'to': 0.05581395348837209,\n",
              " 'used': 0.004651162790697674,\n",
              " 'was': 0.009302325581395349,\n",
              " 'we': 0.004651162790697674,\n",
              " 'went': 0.004651162790697674,\n",
              " 'while': 0.004651162790697674,\n",
              " 'will': 0.013953488372093023,\n",
              " 'would': 0.009302325581395349,\n",
              " 'yesterday': 0.004651162790697674,\n",
              " 'zone': 0.004651162790697674}"
            ]
          },
          "metadata": {
            "tags": []
          },
          "execution_count": 7
        }
      ]
    },
    {
      "cell_type": "code",
      "metadata": {
        "colab": {
          "base_uri": "https://localhost:8080/"
        },
        "id": "aIvrF29WCTar",
        "outputId": "7691140e-d229-4bd7-a5a7-ee3d09fd112b"
      },
      "source": [
        "# generate a random text\r\n",
        "import random\r\n",
        "\r\n",
        "\r\n",
        "# starting words\r\n",
        "text = [\"today\", \"the\"]\r\n",
        "sentence_finished = False\r\n",
        "\r\n",
        "while not sentence_finished:\r\n",
        "  # select a random probability threshold  \r\n",
        "  r = random.random()\r\n",
        "  accumulator = .0\r\n",
        "\r\n",
        "  for word in model[tuple(text[-2:])].keys():\r\n",
        "      accumulator += model[tuple(text[-2:])][word]\r\n",
        "      # select words that are above the probability threshold\r\n",
        "      if accumulator >= r:\r\n",
        "          text.append(word)\r\n",
        "          break\r\n",
        "\r\n",
        "  if text[-2:] == [None, None]:\r\n",
        "      sentence_finished = True\r\n",
        " \r\n",
        "print (' '.join([t for t in text if t]))"
      ],
      "execution_count": 8,
      "outputs": [
        {
          "output_type": "stream",
          "text": [
            "today the price of 119 . 8 mln vs 123 . 88 billion NOTE : Shrs reflect 3 - 1 . 96 pct of the dollar or a liquidation ,\" he added .\n"
          ],
          "name": "stdout"
        }
      ]
    },
    {
      "cell_type": "markdown",
      "metadata": {
        "id": "GPB6qJQjGDej"
      },
      "source": [
        "<br>\r\n",
        "<hr>"
      ]
    }
  ]
}